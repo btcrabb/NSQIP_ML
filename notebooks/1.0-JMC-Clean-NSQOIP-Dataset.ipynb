{
 "cells": [
  {
   "cell_type": "markdown",
   "metadata": {
    "nteract": {
     "transient": {
      "deleting": false
     }
    }
   },
   "source": [
    "# Clean NSQIP Dataset"
   ]
  },
  {
   "cell_type": "markdown",
   "metadata": {
    "nteract": {
     "transient": {
      "deleting": false
     }
    }
   },
   "source": [
    "This script takes the raw NSQIP dataset ('Pittumor compile working.xlxs') and prepares it for an ML pipeline by fixing encoding, normalizing, and filtering the data.  \n",
    "  \n",
    "  V1: 06/6/20  \n",
    "  V2: 6/27/20  \n",
    "  Justin M. Campbell, justin.campbell@hsc.utah.edu"
   ]
  },
  {
   "cell_type": "markdown",
   "metadata": {
    "nteract": {
     "transient": {
      "deleting": false
     }
    }
   },
   "source": [
    "### Import Libraries & Data"
   ]
  },
  {
   "cell_type": "code",
   "execution_count": 6,
   "metadata": {
    "collapsed": true,
    "execution": {
     "iopub.execute_input": "2020-06-27T23:33:06.958Z",
     "iopub.status.busy": "2020-06-27T23:33:06.948Z",
     "iopub.status.idle": "2020-06-27T23:33:07.080Z",
     "shell.execute_reply": "2020-06-27T23:33:07.096Z"
    },
    "jupyter": {
     "outputs_hidden": false,
     "source_hidden": false
    },
    "nteract": {
     "transient": {
      "deleting": false
     }
    }
   },
   "outputs": [
    {
     "name": "stdout",
     "output_type": "stream",
     "text": [
      "Python: 3.6.8 |Anaconda, Inc.| (default, Feb 21 2019, 18:30:04) [MSC v.1916 64 bit (AMD64)]\n",
      "Pandas: 0.24.2\n",
      "Numpy: 1.14.2\n",
      "Sklearn: 0.22.1\n"
     ]
    }
   ],
   "source": [
    "import sys\n",
    "import numpy as np\n",
    "import pandas as pd\n",
    "import sklearn\n",
    "import sklearn.preprocessing as preprocessing\n",
    "\n",
    "dataset = pd.read_csv('/Users/justincampbell/Library/Mobile Documents/com~apple~CloudDocs/Research/Karsy/NSQIP PitTumor ML/Pittumor compile working.csv');\n",
    "\n",
    "\n",
    "print('Python: {}'.format(sys.version))\n",
    "print('Pandas: {}'.format(pd.__version__))\n",
    "print('Numpy: {}'.format(np.__version__))\n",
    "print('Sklearn: {}'.format(sklearn.__version__))"
   ]
  },
  {
   "cell_type": "markdown",
   "metadata": {
    "nteract": {
     "transient": {
      "deleting": false
     }
    }
   },
   "source": [
    "### Define Variables of Interest & Filter Dataset"
   ]
  },
  {
   "cell_type": "code",
   "execution_count": 7,
   "metadata": {
    "collapsed": true,
    "execution": {
     "iopub.execute_input": "2020-06-27T23:33:08.337Z",
     "iopub.status.busy": "2020-06-27T23:33:08.292Z",
     "iopub.status.idle": "2020-06-27T23:33:08.366Z",
     "shell.execute_reply": "2020-06-27T23:33:08.389Z"
    },
    "jupyter": {
     "outputs_hidden": false,
     "source_hidden": false
    },
    "nteract": {
     "transient": {
      "deleting": false
     }
    }
   },
   "outputs": [
    {
     "name": "stdout",
     "output_type": "stream",
     "text": [
      "13\n",
      "(2292, 13)\n"
     ]
    },
    {
     "data": {
      "text/html": [
       "<div>\n",
       "<style scoped>\n",
       "    .dataframe tbody tr th:only-of-type {\n",
       "        vertical-align: middle;\n",
       "    }\n",
       "\n",
       "    .dataframe tbody tr th {\n",
       "        vertical-align: top;\n",
       "    }\n",
       "\n",
       "    .dataframe thead th {\n",
       "        text-align: right;\n",
       "    }\n",
       "</style>\n",
       "<table border=\"1\" class=\"dataframe\">\n",
       "  <thead>\n",
       "    <tr style=\"text-align: right;\">\n",
       "      <th></th>\n",
       "      <th>AGE</th>\n",
       "      <th>WEIGHT</th>\n",
       "      <th>HEIGHT</th>\n",
       "      <th>OPTIME</th>\n",
       "      <th>PRSODM</th>\n",
       "      <th>PRBUN</th>\n",
       "      <th>PRCREAT</th>\n",
       "      <th>PRPLATE</th>\n",
       "      <th>PRPTT</th>\n",
       "      <th>PRPT</th>\n",
       "      <th>READMISSION1</th>\n",
       "      <th>RETURNOR</th>\n",
       "      <th>SEX</th>\n",
       "    </tr>\n",
       "  </thead>\n",
       "  <tbody>\n",
       "    <tr>\n",
       "      <th>0</th>\n",
       "      <td>78.0</td>\n",
       "      <td>163</td>\n",
       "      <td>61</td>\n",
       "      <td>128</td>\n",
       "      <td>138</td>\n",
       "      <td>16.0</td>\n",
       "      <td>0.8</td>\n",
       "      <td>162.0</td>\n",
       "      <td>29.3</td>\n",
       "      <td>-99.0</td>\n",
       "      <td>NaN</td>\n",
       "      <td>No</td>\n",
       "      <td>female</td>\n",
       "    </tr>\n",
       "  </tbody>\n",
       "</table>\n",
       "</div>"
      ],
      "text/plain": [
       "    AGE  WEIGHT  HEIGHT  OPTIME  PRSODM  PRBUN  PRCREAT  PRPLATE  PRPTT  PRPT  \\\n",
       "0  78.0     163      61     128     138   16.0      0.8    162.0   29.3 -99.0   \n",
       "\n",
       "  READMISSION1 RETURNOR     SEX  \n",
       "0          NaN       No  female  "
      ]
     },
     "execution_count": 7,
     "metadata": {},
     "output_type": "execute_result"
    }
   ],
   "source": [
    "# Variables used in Josh's analysis\n",
    "cont_vars = ['AGE', 'WEIGHT', 'PUFYEAR', 'OPTIME', 'TOTHLOS', 'PRSODM', 'PRBUN', 'PRCREAT', 'PRALBUM', 'PRPLATE', 'PRPTT', 'PRINR', 'PRPT']\n",
    "yesno_vars = ['READMISSION1', 'SMOKE', 'HXCOPD', 'HYPERMED', 'DISCANCR','WNDINF', 'STEROID', 'WTLOSS', 'BLEEDIS','EMERGNCY', 'RETURNOR']\n",
    "cat_vars = ['SEX', 'RACE_NEW', 'ETHNICITY_HISPANIC', 'DIABETES', 'DYSPNEA', 'PRSEPIS', 'ASACLAS', 'TRANST', 'DISCHDEST']\n",
    "all_vars = cont_vars + yesno_vars + cat_vars\n",
    "\n",
    "# Filter dataset to variables of interest, sanity-check\n",
    "print(len(all_vars))\n",
    "dataset = dataset[all_vars]\n",
    "print(dataset.shape)\n",
    "dataset.head(1)"
   ]
  },
  {
   "cell_type": "markdown",
   "metadata": {
    "nteract": {
     "transient": {
      "deleting": false
     }
    }
   },
   "source": [
    "### Replace Yes-No Encoding With 1-0"
   ]
  },
  {
   "cell_type": "code",
   "execution_count": 8,
   "metadata": {
    "collapsed": true,
    "execution": {
     "iopub.execute_input": "2020-06-27T23:33:10.025Z",
     "iopub.status.busy": "2020-06-27T23:33:10.016Z",
     "iopub.status.idle": "2020-06-27T23:33:10.079Z",
     "shell.execute_reply": "2020-06-27T23:33:10.103Z"
    },
    "jupyter": {
     "outputs_hidden": false,
     "source_hidden": false
    },
    "nteract": {
     "transient": {
      "deleting": false
     }
    }
   },
   "outputs": [],
   "source": [
    "yesno_dataset = dataset[yesno_vars].copy()\n",
    "yesno_dataset = yesno_dataset.replace({'Yes': 1, 'No': 0})\n",
    "yesno_dataset - yesno_dataset.drop('BLEEDIS', axis=1) # redundant"
   ]
  },
  {
   "cell_type": "code",
   "execution_count": 5,
   "metadata": {
    "collapsed": true,
    "execution": {
     "iopub.execute_input": "2020-06-27T23:33:10.579Z",
     "iopub.status.busy": "2020-06-27T23:33:10.573Z",
     "iopub.status.idle": "2020-06-27T23:33:10.588Z",
     "shell.execute_reply": "2020-06-27T23:33:10.594Z"
    },
    "jupyter": {
     "outputs_hidden": false,
     "source_hidden": false
    },
    "nteract": {
     "transient": {
      "deleting": false
     }
    }
   },
   "outputs": [],
   "source": [
    "bleed = yesno_dataset['BLEEDIS'].copy()\n",
    "bleed.replace(np.NaN, 2.0, inplace=True)\n",
    "encode = preprocessing.OneHotEncoder()"
   ]
  },
  {
   "cell_type": "code",
   "execution_count": 6,
   "metadata": {
    "collapsed": true,
    "execution": {
     "iopub.execute_input": "2020-06-27T23:33:11.018Z",
     "iopub.status.busy": "2020-06-27T23:33:11.012Z",
     "iopub.status.idle": "2020-06-27T23:33:11.027Z",
     "shell.execute_reply": "2020-06-27T23:33:11.032Z"
    },
    "jupyter": {
     "outputs_hidden": false,
     "source_hidden": false
    },
    "nteract": {
     "transient": {
      "deleting": false
     }
    }
   },
   "outputs": [],
   "source": [
    "encode.fit(bleed.values.reshape(-1,1))\n",
    "columns = encode.get_feature_names(['BLEEDIS'])\n",
    "new = encode.transform(bleed.values.reshape(-1,1)).toarray()\n",
    "bleedis = pd.DataFrame(new, columns=columns )"
   ]
  },
  {
   "cell_type": "code",
   "execution_count": 7,
   "metadata": {
    "collapsed": true,
    "execution": {
     "iopub.execute_input": "2020-06-27T23:33:11.349Z",
     "iopub.status.busy": "2020-06-27T23:33:11.340Z",
     "iopub.status.idle": "2020-06-27T23:33:11.362Z",
     "shell.execute_reply": "2020-06-27T23:33:11.367Z"
    },
    "jupyter": {
     "outputs_hidden": false,
     "source_hidden": false
    },
    "nteract": {
     "transient": {
      "deleting": false
     }
    }
   },
   "outputs": [],
   "source": [
    "yesno_dataset = pd.concat([yesno_dataset,bleedis], axis=1)"
   ]
  },
  {
   "cell_type": "markdown",
   "metadata": {
    "nteract": {
     "transient": {
      "deleting": false
     }
    }
   },
   "source": [
    "### Change Categorical Encoding"
   ]
  },
  {
   "cell_type": "code",
   "execution_count": 10,
   "metadata": {
    "collapsed": true,
    "execution": {
     "iopub.execute_input": "2020-06-27T23:33:12.154Z",
     "iopub.status.busy": "2020-06-27T23:33:12.134Z",
     "iopub.status.idle": "2020-06-27T23:33:12.188Z",
     "shell.execute_reply": "2020-06-27T23:33:12.197Z"
    },
    "jupyter": {
     "outputs_hidden": false,
     "source_hidden": false
    },
    "nteract": {
     "transient": {
      "deleting": false
     }
    }
   },
   "outputs": [],
   "source": [
    "cat_dataset = dataset[cat_vars].copy()\n",
    "\n",
    "# Binarizing\n",
    "cat_dataset['ASACLAS'] = cat_dataset['ASACLAS'].replace({'None assigned': 0, '1-No Disturb': 1, '2-Mild Disturb': 2, '3-Severe Disturb': 3, '4-Life Threat': 4})\n",
    "cat_dataset['DIABETES'] = cat_dataset['DIABETES'].replace({'NO': 0, 'NON-INSULIN': 1, 'INSULIN': 1})\n",
    "cat_dataset['DYSPNEA'] = cat_dataset['DYSPNEA'].replace({'No': 0, 'MODERATE EXERTION': 1, 'AT REST': 1})\n",
    "cat_dataset['PRSEPIS'] = cat_dataset['PRSEPIS'].replace({'None': 0, 'Sepsis': 1, 'SIRS': 1})\n",
    "\n",
    "# Dummy-encoding\n",
    "sex = pd.get_dummies(cat_dataset['SEX'], prefix='SEX')\n",
    "race = pd.get_dummies(cat_dataset['RACE_NEW'], prefix='RACE')\n",
    "hisp = pd.get_dummies(cat_dataset['ETHNICITY_HISPANIC'], prefix='HISPANIC')\n",
    "transt = pd.get_dummies(cat_dataset['TRANST'], prefix='TRAN')\n",
    "disch = pd.get_dummies(cat_dataset['DISCHDEST'], prefix='DISCHDEST')\n",
    "\n",
    "# Adjust ASA-class formatting\n",
    "cat_dataset['ASACLAS'] = (cat_dataset['ASACLAS']-cat_dataset['ASACLAS'].min())/(cat_dataset['ASACLAS'].max()-cat_dataset['ASACLAS'].min())"
   ]
  },
  {
   "cell_type": "markdown",
   "metadata": {
    "nteract": {
     "transient": {
      "deleting": false
     }
    }
   },
   "source": [
    "### Pull Continuous Variables"
   ]
  },
  {
   "cell_type": "code",
   "execution_count": 11,
   "metadata": {
    "collapsed": true,
    "execution": {
     "iopub.execute_input": "2020-06-27T23:33:12.882Z",
     "iopub.status.busy": "2020-06-27T23:33:12.875Z",
     "iopub.status.idle": "2020-06-27T23:33:12.891Z",
     "shell.execute_reply": "2020-06-27T23:33:12.897Z"
    },
    "jupyter": {
     "outputs_hidden": false,
     "source_hidden": false
    },
    "nteract": {
     "transient": {
      "deleting": false
     }
    }
   },
   "outputs": [],
   "source": [
    "cont_dataset = dataset[cont_vars].copy()"
   ]
  },
  {
   "cell_type": "code",
   "execution_count": 12,
   "metadata": {
    "collapsed": true,
    "execution": {
     "iopub.execute_input": "2020-06-27T23:33:13.263Z",
     "iopub.status.busy": "2020-06-27T23:33:13.254Z",
     "iopub.status.idle": "2020-06-27T23:33:13.299Z",
     "shell.execute_reply": "2020-06-27T23:33:13.327Z"
    },
    "jupyter": {
     "outputs_hidden": false,
     "source_hidden": false
    },
    "nteract": {
     "transient": {
      "deleting": false
     }
    }
   },
   "outputs": [
    {
     "ename": "NameError",
     "evalue": "name 'race' is not defined",
     "output_type": "error",
     "traceback": [
      "\u001b[1;31m---------------------------------------------------------------------------\u001b[0m",
      "\u001b[1;31mNameError\u001b[0m                                 Traceback (most recent call last)",
      "\u001b[1;32m<ipython-input-12-fc7aff07eb79>\u001b[0m in \u001b[0;36m<module>\u001b[1;34m\u001b[0m\n\u001b[0;32m      1\u001b[0m \u001b[1;31m# Merge new variables to produce clean dataset\u001b[0m\u001b[1;33m\u001b[0m\u001b[1;33m\u001b[0m\u001b[1;33m\u001b[0m\u001b[0m\n\u001b[1;32m----> 2\u001b[1;33m \u001b[0mclean_dataset\u001b[0m \u001b[1;33m=\u001b[0m \u001b[0mpd\u001b[0m\u001b[1;33m.\u001b[0m\u001b[0mconcat\u001b[0m\u001b[1;33m(\u001b[0m\u001b[1;33m[\u001b[0m\u001b[0mcont_dataset\u001b[0m\u001b[1;33m,\u001b[0m \u001b[0myesno_dataset\u001b[0m\u001b[1;33m,\u001b[0m \u001b[0mcat_dataset\u001b[0m\u001b[1;33m,\u001b[0m \u001b[0msex\u001b[0m\u001b[1;33m,\u001b[0m \u001b[0mrace\u001b[0m\u001b[1;33m,\u001b[0m \u001b[0mhisp\u001b[0m\u001b[1;33m,\u001b[0m \u001b[0mtranst\u001b[0m\u001b[1;33m,\u001b[0m \u001b[0mdisch\u001b[0m\u001b[1;33m]\u001b[0m\u001b[1;33m,\u001b[0m \u001b[0maxis\u001b[0m\u001b[1;33m=\u001b[0m\u001b[1;36m1\u001b[0m\u001b[1;33m)\u001b[0m\u001b[1;33m\u001b[0m\u001b[1;33m\u001b[0m\u001b[0m\n\u001b[0m\u001b[0;32m      3\u001b[0m \u001b[1;33m\u001b[0m\u001b[0m\n\u001b[0;32m      4\u001b[0m \u001b[1;31m# Remove redundant variables\u001b[0m\u001b[1;33m\u001b[0m\u001b[1;33m\u001b[0m\u001b[1;33m\u001b[0m\u001b[0m\n\u001b[0;32m      5\u001b[0m \u001b[0mclean_dataset\u001b[0m \u001b[1;33m=\u001b[0m \u001b[0mclean_dataset\u001b[0m\u001b[1;33m.\u001b[0m\u001b[0mdrop\u001b[0m\u001b[1;33m(\u001b[0m\u001b[1;33m[\u001b[0m\u001b[1;34m'SEX'\u001b[0m\u001b[1;33m,\u001b[0m \u001b[1;34m'RACE_NEW'\u001b[0m\u001b[1;33m,\u001b[0m \u001b[1;34m'BLEEDIS'\u001b[0m\u001b[1;33m,\u001b[0m \u001b[1;34m'ETHNICITY_HISPANIC'\u001b[0m\u001b[1;33m,\u001b[0m \u001b[1;34m'TRANST'\u001b[0m\u001b[1;33m,\u001b[0m \u001b[1;34m'DISCHDEST'\u001b[0m\u001b[1;33m]\u001b[0m\u001b[1;33m,\u001b[0m \u001b[0maxis\u001b[0m\u001b[1;33m=\u001b[0m\u001b[1;36m1\u001b[0m\u001b[1;33m)\u001b[0m\u001b[1;33m\u001b[0m\u001b[1;33m\u001b[0m\u001b[0m\n",
      "\u001b[1;31mNameError\u001b[0m: name 'race' is not defined"
     ]
    }
   ],
   "source": [
    "# Merge new variables to produce clean dataset\n",
    "clean_dataset = pd.concat([cont_dataset, yesno_dataset, cat_dataset, sex, race, hisp, transt, disch], axis=1)\n",
    "\n",
    "# Remove redundant variables\n",
    "clean_dataset = clean_dataset.drop(['SEX', 'RACE_NEW', 'BLEEDIS', 'ETHNICITY_HISPANIC', 'TRANST', 'DISCHDEST'], axis=1)\n",
    "\n",
    "print(clean_dataset.shape)\n",
    "clean_dataset.head()"
   ]
  },
  {
   "cell_type": "markdown",
   "metadata": {
    "nteract": {
     "transient": {
      "deleting": false
     }
    }
   },
   "source": [
    "### Replace NaN's With Median Value"
   ]
  },
  {
   "cell_type": "code",
   "execution_count": 11,
   "metadata": {
    "collapsed": true,
    "execution": {
     "iopub.execute_input": "2020-06-27T23:33:13.965Z",
     "iopub.status.busy": "2020-06-27T23:33:13.956Z",
     "iopub.status.idle": "2020-06-27T23:33:14.027Z",
     "shell.execute_reply": "2020-06-27T23:33:14.048Z"
    },
    "jupyter": {
     "outputs_hidden": false,
     "source_hidden": false
    },
    "nteract": {
     "transient": {
      "deleting": false
     }
    }
   },
   "outputs": [
    {
     "name": "stdout",
     "output_type": "stream",
     "text": [
      "AGE: 1534\n",
      "WEIGHT: 1534\n",
      "PUFYEAR: 1534\n",
      "OPTIME: 1534\n",
      "TOTHLOS: 1534\n",
      "PRSODM: 1534\n",
      "PRBUN: 1534\n",
      "PRCREAT: 1534\n",
      "PRALBUM: 1534\n",
      "PRPLATE: 1534\n",
      "PRPTT: 1534\n",
      "PRINR: 1534\n",
      "PRPT: 1534\n",
      "READMISSION1: 1534\n",
      "SMOKE: 1534\n",
      "HXCOPD: 1534\n",
      "HYPERMED: 1534\n",
      "DISCANCR: 1534\n",
      "WNDINF: 1534\n",
      "STEROID: 1534\n",
      "WTLOSS: 1534\n",
      "EMERGNCY: 1534\n",
      "RETURNOR: 1534\n",
      "BLEEDIS_0.0: 1534\n",
      "BLEEDIS_1.0: 1534\n",
      "BLEEDIS_2.0: 1534\n",
      "DIABETES: 1534\n",
      "DYSPNEA: 1534\n",
      "PRSEPIS: 1534\n",
      "ASACLAS: 1533\n",
      "SEX_female: 1534\n",
      "SEX_male: 1534\n",
      "RACE_American Indian or Alaska Native: 1534\n",
      "RACE_Asian: 1534\n",
      "RACE_Black or African American: 1534\n",
      "RACE_Native Hawaiian or Pacific Islander: 1534\n",
      "RACE_Unknown/Not Reported: 1534\n",
      "RACE_White: 1534\n",
      "HISPANIC_N: 1534\n",
      "HISPANIC_U: 1534\n",
      "HISPANIC_Y: 1534\n",
      "TRAN_From acute care hospital inpatient: 1534\n",
      "TRAN_Not transferred (admitted from home): 1534\n",
      "TRAN_Nursing home - Chronic care - Intermediate care: 1534\n",
      "TRAN_Outside emergency department: 1534\n",
      "TRAN_Transfer from other: 1534\n",
      "DISCHDEST_Home: 1534\n",
      "DISCHDEST_Rehab: 1534\n",
      "DISCHDEST_Skilled Care, Not Home: 1534\n",
      "DISCHDEST_Unknown: 1534\n"
     ]
    }
   ],
   "source": [
    "# Replace missing values with median values\n",
    "for col in clean_dataset.columns:\n",
    "    clean_dataset[col].replace(-99, clean_dataset[col].median(), inplace=True)\n",
    "    \n",
    "clean_dataset['AGE'].replace(np.NaN, clean_dataset['AGE'].median(), inplace=True)\n",
    "\n",
    "# Erop rows that don't have readmission defined\n",
    "clean_dataset = clean_dataset[clean_dataset['READMISSION1'].notna()]\n",
    "\n",
    "for col in clean_dataset.columns:\n",
    "    print('{}: {}'.format(col, clean_dataset[col].count()))"
   ]
  },
  {
   "cell_type": "markdown",
   "metadata": {
    "nteract": {
     "transient": {
      "deleting": false
     }
    }
   },
   "source": [
    "### Normalize Continuous Data With StandardScaler"
   ]
  },
  {
   "cell_type": "code",
   "execution_count": 12,
   "metadata": {
    "collapsed": true,
    "execution": {
     "iopub.execute_input": "2020-06-27T23:33:14.744Z",
     "iopub.status.busy": "2020-06-27T23:33:14.738Z",
     "iopub.status.idle": "2020-06-27T23:33:14.753Z",
     "shell.execute_reply": "2020-06-27T23:33:14.759Z"
    },
    "jupyter": {
     "outputs_hidden": false,
     "source_hidden": false
    },
    "nteract": {
     "transient": {
      "deleting": false
     }
    }
   },
   "outputs": [],
   "source": [
    "# Remove cont vars, standardize, then add back-in\n",
    "cont_dataset = clean_dataset[cont_vars].copy()\n",
    "clean_dataset = clean_dataset.drop(cont_vars, axis=1)\n",
    "\n",
    "scaler = preprocessing.StandardScaler().fit(cont_dataset)\n",
    "stand_dataset = scaler.transform(cont_dataset)\n",
    "stand_dataset = pd.DataFrame(stand_dataset)\n",
    "stand_dataset.columns = cont_vars"
   ]
  },
  {
   "cell_type": "code",
   "execution_count": 13,
   "metadata": {
    "collapsed": true,
    "execution": {
     "iopub.execute_input": "2020-06-27T23:33:15.092Z",
     "iopub.status.busy": "2020-06-27T23:33:15.083Z",
     "iopub.status.idle": "2020-06-27T23:33:15.127Z",
     "shell.execute_reply": "2020-06-27T23:33:15.133Z"
    },
    "jupyter": {
     "outputs_hidden": false,
     "source_hidden": false
    },
    "nteract": {
     "transient": {
      "deleting": false
     }
    }
   },
   "outputs": [
    {
     "name": "stdout",
     "output_type": "stream",
     "text": [
      "(1534, 52)\n"
     ]
    },
    {
     "data": {
      "text/html": [
       "<div>\n",
       "<style scoped>\n",
       "    .dataframe tbody tr th:only-of-type {\n",
       "        vertical-align: middle;\n",
       "    }\n",
       "\n",
       "    .dataframe tbody tr th {\n",
       "        vertical-align: top;\n",
       "    }\n",
       "\n",
       "    .dataframe thead th {\n",
       "        text-align: right;\n",
       "    }\n",
       "</style>\n",
       "<table border=\"1\" class=\"dataframe\">\n",
       "  <thead>\n",
       "    <tr style=\"text-align: right;\">\n",
       "      <th></th>\n",
       "      <th>index</th>\n",
       "      <th>READMISSION1</th>\n",
       "      <th>SMOKE</th>\n",
       "      <th>HXCOPD</th>\n",
       "      <th>HYPERMED</th>\n",
       "      <th>DISCANCR</th>\n",
       "      <th>WNDINF</th>\n",
       "      <th>STEROID</th>\n",
       "      <th>WTLOSS</th>\n",
       "      <th>EMERGNCY</th>\n",
       "      <th>...</th>\n",
       "      <th>OPTIME</th>\n",
       "      <th>TOTHLOS</th>\n",
       "      <th>PRSODM</th>\n",
       "      <th>PRBUN</th>\n",
       "      <th>PRCREAT</th>\n",
       "      <th>PRALBUM</th>\n",
       "      <th>PRPLATE</th>\n",
       "      <th>PRPTT</th>\n",
       "      <th>PRINR</th>\n",
       "      <th>PRPT</th>\n",
       "    </tr>\n",
       "  </thead>\n",
       "  <tbody>\n",
       "    <tr>\n",
       "      <th>0</th>\n",
       "      <td>2</td>\n",
       "      <td>1.0</td>\n",
       "      <td>0</td>\n",
       "      <td>0</td>\n",
       "      <td>1</td>\n",
       "      <td>0</td>\n",
       "      <td>0</td>\n",
       "      <td>0</td>\n",
       "      <td>0</td>\n",
       "      <td>0</td>\n",
       "      <td>...</td>\n",
       "      <td>-0.632849</td>\n",
       "      <td>-0.432784</td>\n",
       "      <td>1.100094</td>\n",
       "      <td>0.696080</td>\n",
       "      <td>-0.003698</td>\n",
       "      <td>1.175803</td>\n",
       "      <td>0.520203</td>\n",
       "      <td>-0.010827</td>\n",
       "      <td>-0.329540</td>\n",
       "      <td>-0.211986</td>\n",
       "    </tr>\n",
       "    <tr>\n",
       "      <th>1</th>\n",
       "      <td>30</td>\n",
       "      <td>1.0</td>\n",
       "      <td>0</td>\n",
       "      <td>0</td>\n",
       "      <td>0</td>\n",
       "      <td>0</td>\n",
       "      <td>0</td>\n",
       "      <td>0</td>\n",
       "      <td>0</td>\n",
       "      <td>0</td>\n",
       "      <td>...</td>\n",
       "      <td>2.696533</td>\n",
       "      <td>0.608496</td>\n",
       "      <td>-2.324180</td>\n",
       "      <td>0.111763</td>\n",
       "      <td>0.027710</td>\n",
       "      <td>1.171875</td>\n",
       "      <td>-1.066267</td>\n",
       "      <td>0.292843</td>\n",
       "      <td>1.244182</td>\n",
       "      <td>-0.211986</td>\n",
       "    </tr>\n",
       "    <tr>\n",
       "      <th>2</th>\n",
       "      <td>37</td>\n",
       "      <td>1.0</td>\n",
       "      <td>0</td>\n",
       "      <td>0</td>\n",
       "      <td>0</td>\n",
       "      <td>0</td>\n",
       "      <td>0</td>\n",
       "      <td>1</td>\n",
       "      <td>0</td>\n",
       "      <td>0</td>\n",
       "      <td>...</td>\n",
       "      <td>-0.462880</td>\n",
       "      <td>0.013479</td>\n",
       "      <td>0.788797</td>\n",
       "      <td>1.426476</td>\n",
       "      <td>1.598134</td>\n",
       "      <td>-0.855191</td>\n",
       "      <td>-2.046145</td>\n",
       "      <td>-0.536410</td>\n",
       "      <td>0.807037</td>\n",
       "      <td>-0.211986</td>\n",
       "    </tr>\n",
       "    <tr>\n",
       "      <th>3</th>\n",
       "      <td>96</td>\n",
       "      <td>1.0</td>\n",
       "      <td>0</td>\n",
       "      <td>0</td>\n",
       "      <td>1</td>\n",
       "      <td>0</td>\n",
       "      <td>0</td>\n",
       "      <td>0</td>\n",
       "      <td>0</td>\n",
       "      <td>0</td>\n",
       "      <td>...</td>\n",
       "      <td>-0.542865</td>\n",
       "      <td>-0.581538</td>\n",
       "      <td>2.656582</td>\n",
       "      <td>0.696080</td>\n",
       "      <td>1.346866</td>\n",
       "      <td>-0.855191</td>\n",
       "      <td>0.442435</td>\n",
       "      <td>-0.805041</td>\n",
       "      <td>-0.941543</td>\n",
       "      <td>-0.211986</td>\n",
       "    </tr>\n",
       "    <tr>\n",
       "      <th>4</th>\n",
       "      <td>116</td>\n",
       "      <td>1.0</td>\n",
       "      <td>0</td>\n",
       "      <td>0</td>\n",
       "      <td>1</td>\n",
       "      <td>0</td>\n",
       "      <td>0</td>\n",
       "      <td>0</td>\n",
       "      <td>0</td>\n",
       "      <td>0</td>\n",
       "      <td>...</td>\n",
       "      <td>-0.712834</td>\n",
       "      <td>-0.135275</td>\n",
       "      <td>0.166201</td>\n",
       "      <td>0.403921</td>\n",
       "      <td>0.027710</td>\n",
       "      <td>-0.855191</td>\n",
       "      <td>-0.490783</td>\n",
       "      <td>0.619872</td>\n",
       "      <td>0.020176</td>\n",
       "      <td>-0.211986</td>\n",
       "    </tr>\n",
       "  </tbody>\n",
       "</table>\n",
       "<p>5 rows × 52 columns</p>\n",
       "</div>"
      ],
      "text/plain": [
       "   index  READMISSION1  SMOKE  HXCOPD  HYPERMED  DISCANCR  WNDINF  STEROID  \\\n",
       "0      2           1.0      0       0         1         0       0        0   \n",
       "1     30           1.0      0       0         0         0       0        0   \n",
       "2     37           1.0      0       0         0         0       0        1   \n",
       "3     96           1.0      0       0         1         0       0        0   \n",
       "4    116           1.0      0       0         1         0       0        0   \n",
       "\n",
       "   WTLOSS  EMERGNCY  ...    OPTIME   TOTHLOS    PRSODM     PRBUN   PRCREAT  \\\n",
       "0       0         0  ... -0.632849 -0.432784  1.100094  0.696080 -0.003698   \n",
       "1       0         0  ...  2.696533  0.608496 -2.324180  0.111763  0.027710   \n",
       "2       0         0  ... -0.462880  0.013479  0.788797  1.426476  1.598134   \n",
       "3       0         0  ... -0.542865 -0.581538  2.656582  0.696080  1.346866   \n",
       "4       0         0  ... -0.712834 -0.135275  0.166201  0.403921  0.027710   \n",
       "\n",
       "    PRALBUM   PRPLATE     PRPTT     PRINR      PRPT  \n",
       "0  1.175803  0.520203 -0.010827 -0.329540 -0.211986  \n",
       "1  1.171875 -1.066267  0.292843  1.244182 -0.211986  \n",
       "2 -0.855191 -2.046145 -0.536410  0.807037 -0.211986  \n",
       "3 -0.855191  0.442435 -0.805041 -0.941543 -0.211986  \n",
       "4 -0.855191 -0.490783  0.619872  0.020176 -0.211986  \n",
       "\n",
       "[5 rows x 52 columns]"
      ]
     },
     "execution_count": 13,
     "metadata": {},
     "output_type": "execute_result"
    }
   ],
   "source": [
    "merged_dataset = pd.concat([clean_dataset.reset_index(),stand_dataset.reset_index()], axis=1)\n",
    "print(merged_dataset.shape)\n",
    "merged_dataset.head()"
   ]
  },
  {
   "cell_type": "markdown",
   "metadata": {
    "nteract": {
     "transient": {
      "deleting": false
     }
    }
   },
   "source": [
    "### Save"
   ]
  },
  {
   "cell_type": "code",
   "execution_count": 14,
   "metadata": {
    "collapsed": true,
    "execution": {
     "iopub.execute_input": "2020-06-27T23:33:15.852Z",
     "iopub.status.busy": "2020-06-27T23:33:15.844Z",
     "iopub.status.idle": "2020-06-27T23:33:15.884Z",
     "shell.execute_reply": "2020-06-27T23:33:15.895Z"
    },
    "jupyter": {
     "outputs_hidden": false,
     "source_hidden": false
    },
    "nteract": {
     "transient": {
      "deleting": false
     }
    }
   },
   "outputs": [],
   "source": [
    "merged_dataset.to_csv('/Users/justincampbell/Library/Mobile Documents/com~apple~CloudDocs/Research/Karsy/NSQIP PitTumor ML/NSQIP_Clean2.csv')"
   ]
  }
 ],
 "metadata": {
  "kernel_info": {
   "name": "python3"
  },
  "kernelspec": {
   "display_name": "Python 3",
   "language": "python",
   "name": "python3"
  },
  "language_info": {
   "codemirror_mode": {
    "name": "ipython",
    "version": 3
   },
   "file_extension": ".py",
   "mimetype": "text/x-python",
   "name": "python",
   "nbconvert_exporter": "python",
   "pygments_lexer": "ipython3",
   "version": "3.6.8"
  },
  "nteract": {
   "version": "0.23.3"
  }
 },
 "nbformat": 4,
 "nbformat_minor": 2
}
