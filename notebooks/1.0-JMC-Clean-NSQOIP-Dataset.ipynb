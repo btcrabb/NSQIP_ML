{
 "cells": [
  {
   "cell_type": "markdown",
   "metadata": {
    "nteract": {
     "transient": {
      "deleting": false
     }
    }
   },
   "source": [
    "# Clean NSQIP Dataset"
   ]
  },
  {
   "cell_type": "markdown",
   "metadata": {
    "nteract": {
     "transient": {
      "deleting": false
     }
    }
   },
   "source": [
    "This script takes the raw NSQIP dataset ('Pittumor compile working.xlxs') and prepares it for an ML pipeline by fixing encoding, normalizing, and filtering the data.  \n",
    "  \n",
    "  V1: 06/6/20  \n",
    "  V2: 6/27/20  \n",
    "  Justin M. Campbell, justin.campbell@hsc.utah.edu"
   ]
  },
  {
   "cell_type": "markdown",
   "metadata": {
    "nteract": {
     "transient": {
      "deleting": false
     }
    }
   },
   "source": [
    "### Import Libraries & Data"
   ]
  },
  {
   "cell_type": "code",
   "execution_count": 2,
   "metadata": {
    "collapsed": true,
    "execution": {
     "iopub.execute_input": "2020-06-27T23:33:06.958Z",
     "iopub.status.busy": "2020-06-27T23:33:06.948Z",
     "iopub.status.idle": "2020-06-27T23:33:07.080Z",
     "shell.execute_reply": "2020-06-27T23:33:07.096Z"
    },
    "jupyter": {
     "outputs_hidden": false,
     "source_hidden": false
    },
    "nteract": {
     "transient": {
      "deleting": false
     }
    }
   },
   "outputs": [
    {
     "name": "stdout",
     "output_type": "stream",
     "text": [
      "Python: 3.7.6 (default, Jan  8 2020, 13:42:34) \n",
      "[Clang 4.0.1 (tags/RELEASE_401/final)]\n",
      "Pandas: 1.0.1\n",
      "Numpy: 1.18.1\n",
      "Sklearn: 0.22.1\n"
     ]
    }
   ],
   "source": [
    "import sys\n",
    "import numpy as np\n",
    "import pandas as pd\n",
    "import sklearn\n",
    "import sklearn.preprocessing as preprocessing\n",
    "\n",
    "dataset = pd.read_csv('/Users/justincampbell/Library/Mobile Documents/com~apple~CloudDocs/Research/Karsy/NSQIP PitTumor ML/Pittumor compile working.csv');\n",
    "\n",
    "\n",
    "print('Python: {}'.format(sys.version))\n",
    "print('Pandas: {}'.format(pd.__version__))\n",
    "print('Numpy: {}'.format(np.__version__))\n",
    "print('Sklearn: {}'.format(sklearn.__version__))"
   ]
  },
  {
   "cell_type": "markdown",
   "metadata": {
    "nteract": {
     "transient": {
      "deleting": false
     }
    }
   },
   "source": [
    "### Define Variables of Interest & Filter Dataset"
   ]
  },
  {
   "cell_type": "code",
   "execution_count": 3,
   "metadata": {
    "collapsed": true,
    "execution": {
     "iopub.execute_input": "2020-06-27T23:33:08.337Z",
     "iopub.status.busy": "2020-06-27T23:33:08.292Z",
     "iopub.status.idle": "2020-06-27T23:33:08.366Z",
     "shell.execute_reply": "2020-06-27T23:33:08.389Z"
    },
    "jupyter": {
     "outputs_hidden": false,
     "source_hidden": false
    },
    "nteract": {
     "transient": {
      "deleting": false
     }
    }
   },
   "outputs": [
    {
     "name": "stdout",
     "output_type": "stream",
     "text": [
      "33\n",
      "(2292, 33)\n"
     ]
    },
    {
     "data": {
      "text/html": [
       "<div>\n",
       "<style scoped>\n",
       "    .dataframe tbody tr th:only-of-type {\n",
       "        vertical-align: middle;\n",
       "    }\n",
       "\n",
       "    .dataframe tbody tr th {\n",
       "        vertical-align: top;\n",
       "    }\n",
       "\n",
       "    .dataframe thead th {\n",
       "        text-align: right;\n",
       "    }\n",
       "</style>\n",
       "<table border=\"1\" class=\"dataframe\">\n",
       "  <thead>\n",
       "    <tr style=\"text-align: right;\">\n",
       "      <th></th>\n",
       "      <th>AGE</th>\n",
       "      <th>WEIGHT</th>\n",
       "      <th>PUFYEAR</th>\n",
       "      <th>OPTIME</th>\n",
       "      <th>TOTHLOS</th>\n",
       "      <th>PRSODM</th>\n",
       "      <th>PRBUN</th>\n",
       "      <th>PRCREAT</th>\n",
       "      <th>PRALBUM</th>\n",
       "      <th>PRPLATE</th>\n",
       "      <th>...</th>\n",
       "      <th>RETURNOR</th>\n",
       "      <th>SEX</th>\n",
       "      <th>RACE_NEW</th>\n",
       "      <th>ETHNICITY_HISPANIC</th>\n",
       "      <th>DIABETES</th>\n",
       "      <th>DYSPNEA</th>\n",
       "      <th>PRSEPIS</th>\n",
       "      <th>ASACLAS</th>\n",
       "      <th>TRANST</th>\n",
       "      <th>DISCHDEST</th>\n",
       "    </tr>\n",
       "  </thead>\n",
       "  <tbody>\n",
       "    <tr>\n",
       "      <th>0</th>\n",
       "      <td>78.0</td>\n",
       "      <td>163</td>\n",
       "      <td>2018.0</td>\n",
       "      <td>128</td>\n",
       "      <td>11</td>\n",
       "      <td>138</td>\n",
       "      <td>16.0</td>\n",
       "      <td>0.8</td>\n",
       "      <td>3.5</td>\n",
       "      <td>162.0</td>\n",
       "      <td>...</td>\n",
       "      <td>No</td>\n",
       "      <td>female</td>\n",
       "      <td>White</td>\n",
       "      <td>N</td>\n",
       "      <td>NO</td>\n",
       "      <td>No</td>\n",
       "      <td>None</td>\n",
       "      <td>3-Severe Disturb</td>\n",
       "      <td>Not transferred (admitted from home)</td>\n",
       "      <td>Home</td>\n",
       "    </tr>\n",
       "  </tbody>\n",
       "</table>\n",
       "<p>1 rows × 33 columns</p>\n",
       "</div>"
      ],
      "text/plain": [
       "    AGE  WEIGHT  PUFYEAR  OPTIME  TOTHLOS  PRSODM  PRBUN  PRCREAT  PRALBUM  \\\n",
       "0  78.0     163   2018.0     128       11     138   16.0      0.8      3.5   \n",
       "\n",
       "   PRPLATE  ...  RETURNOR     SEX  RACE_NEW ETHNICITY_HISPANIC DIABETES  \\\n",
       "0    162.0  ...        No  female     White                  N       NO   \n",
       "\n",
       "  DYSPNEA PRSEPIS           ASACLAS                                TRANST  \\\n",
       "0      No    None  3-Severe Disturb  Not transferred (admitted from home)   \n",
       "\n",
       "  DISCHDEST  \n",
       "0      Home  \n",
       "\n",
       "[1 rows x 33 columns]"
      ]
     },
     "execution_count": 3,
     "metadata": {},
     "output_type": "execute_result"
    }
   ],
   "source": [
    "# Variables used in Josh's analysis\n",
    "cont_vars = ['AGE', 'WEIGHT', 'PUFYEAR', 'OPTIME', 'TOTHLOS', 'PRSODM', 'PRBUN', 'PRCREAT', 'PRALBUM', 'PRPLATE', 'PRPTT', 'PRINR', 'PRPT']\n",
    "yesno_vars = ['READMISSION1', 'SMOKE', 'HXCOPD', 'HYPERMED', 'DISCANCR','WNDINF', 'STEROID', 'WTLOSS', 'BLEEDIS','EMERGNCY', 'RETURNOR']\n",
    "cat_vars = ['SEX', 'RACE_NEW', 'ETHNICITY_HISPANIC', 'DIABETES', 'DYSPNEA', 'PRSEPIS', 'ASACLAS', 'TRANST', 'DISCHDEST']\n",
    "all_vars = cont_vars + yesno_vars + cat_vars\n",
    "\n",
    "# Filter dataset to variables of interest, sanity-check\n",
    "print(len(all_vars))\n",
    "dataset = dataset[all_vars]\n",
    "print(dataset.shape)\n",
    "dataset.head(1)"
   ]
  },
  {
   "cell_type": "markdown",
   "metadata": {
    "nteract": {
     "transient": {
      "deleting": false
     }
    }
   },
   "source": [
    "### Replace Yes-No Encoding With 1-0"
   ]
  },
  {
   "cell_type": "code",
   "execution_count": 4,
   "metadata": {
    "collapsed": true,
    "execution": {
     "iopub.execute_input": "2020-06-27T23:33:10.025Z",
     "iopub.status.busy": "2020-06-27T23:33:10.016Z",
     "iopub.status.idle": "2020-06-27T23:33:10.079Z",
     "shell.execute_reply": "2020-06-27T23:33:10.103Z"
    },
    "jupyter": {
     "outputs_hidden": false,
     "source_hidden": false
    },
    "nteract": {
     "transient": {
      "deleting": false
     }
    }
   },
   "outputs": [
    {
     "data": {
      "text/html": [
       "<div>\n",
       "<style scoped>\n",
       "    .dataframe tbody tr th:only-of-type {\n",
       "        vertical-align: middle;\n",
       "    }\n",
       "\n",
       "    .dataframe tbody tr th {\n",
       "        vertical-align: top;\n",
       "    }\n",
       "\n",
       "    .dataframe thead th {\n",
       "        text-align: right;\n",
       "    }\n",
       "</style>\n",
       "<table border=\"1\" class=\"dataframe\">\n",
       "  <thead>\n",
       "    <tr style=\"text-align: right;\">\n",
       "      <th></th>\n",
       "      <th>BLEEDIS</th>\n",
       "      <th>DISCANCR</th>\n",
       "      <th>EMERGNCY</th>\n",
       "      <th>HXCOPD</th>\n",
       "      <th>HYPERMED</th>\n",
       "      <th>READMISSION1</th>\n",
       "      <th>RETURNOR</th>\n",
       "      <th>SMOKE</th>\n",
       "      <th>STEROID</th>\n",
       "      <th>WNDINF</th>\n",
       "      <th>WTLOSS</th>\n",
       "    </tr>\n",
       "  </thead>\n",
       "  <tbody>\n",
       "    <tr>\n",
       "      <th>0</th>\n",
       "      <td>NaN</td>\n",
       "      <td>0</td>\n",
       "      <td>0</td>\n",
       "      <td>0</td>\n",
       "      <td>0</td>\n",
       "      <td>NaN</td>\n",
       "      <td>0.0</td>\n",
       "      <td>0</td>\n",
       "      <td>0</td>\n",
       "      <td>0</td>\n",
       "      <td>0</td>\n",
       "    </tr>\n",
       "    <tr>\n",
       "      <th>1</th>\n",
       "      <td>NaN</td>\n",
       "      <td>0</td>\n",
       "      <td>0</td>\n",
       "      <td>0</td>\n",
       "      <td>0</td>\n",
       "      <td>NaN</td>\n",
       "      <td>0.0</td>\n",
       "      <td>0</td>\n",
       "      <td>0</td>\n",
       "      <td>0</td>\n",
       "      <td>0</td>\n",
       "    </tr>\n",
       "    <tr>\n",
       "      <th>2</th>\n",
       "      <td>NaN</td>\n",
       "      <td>0</td>\n",
       "      <td>0</td>\n",
       "      <td>0</td>\n",
       "      <td>0</td>\n",
       "      <td>0.0</td>\n",
       "      <td>0.0</td>\n",
       "      <td>0</td>\n",
       "      <td>0</td>\n",
       "      <td>0</td>\n",
       "      <td>0</td>\n",
       "    </tr>\n",
       "    <tr>\n",
       "      <th>3</th>\n",
       "      <td>NaN</td>\n",
       "      <td>0</td>\n",
       "      <td>0</td>\n",
       "      <td>0</td>\n",
       "      <td>0</td>\n",
       "      <td>NaN</td>\n",
       "      <td>0.0</td>\n",
       "      <td>0</td>\n",
       "      <td>0</td>\n",
       "      <td>0</td>\n",
       "      <td>0</td>\n",
       "    </tr>\n",
       "    <tr>\n",
       "      <th>4</th>\n",
       "      <td>NaN</td>\n",
       "      <td>0</td>\n",
       "      <td>0</td>\n",
       "      <td>0</td>\n",
       "      <td>0</td>\n",
       "      <td>NaN</td>\n",
       "      <td>0.0</td>\n",
       "      <td>0</td>\n",
       "      <td>0</td>\n",
       "      <td>0</td>\n",
       "      <td>0</td>\n",
       "    </tr>\n",
       "    <tr>\n",
       "      <th>...</th>\n",
       "      <td>...</td>\n",
       "      <td>...</td>\n",
       "      <td>...</td>\n",
       "      <td>...</td>\n",
       "      <td>...</td>\n",
       "      <td>...</td>\n",
       "      <td>...</td>\n",
       "      <td>...</td>\n",
       "      <td>...</td>\n",
       "      <td>...</td>\n",
       "      <td>...</td>\n",
       "    </tr>\n",
       "    <tr>\n",
       "      <th>2287</th>\n",
       "      <td>NaN</td>\n",
       "      <td>0</td>\n",
       "      <td>0</td>\n",
       "      <td>0</td>\n",
       "      <td>0</td>\n",
       "      <td>NaN</td>\n",
       "      <td>0.0</td>\n",
       "      <td>0</td>\n",
       "      <td>0</td>\n",
       "      <td>0</td>\n",
       "      <td>0</td>\n",
       "    </tr>\n",
       "    <tr>\n",
       "      <th>2288</th>\n",
       "      <td>NaN</td>\n",
       "      <td>0</td>\n",
       "      <td>0</td>\n",
       "      <td>0</td>\n",
       "      <td>0</td>\n",
       "      <td>NaN</td>\n",
       "      <td>0.0</td>\n",
       "      <td>0</td>\n",
       "      <td>0</td>\n",
       "      <td>0</td>\n",
       "      <td>0</td>\n",
       "    </tr>\n",
       "    <tr>\n",
       "      <th>2289</th>\n",
       "      <td>NaN</td>\n",
       "      <td>0</td>\n",
       "      <td>0</td>\n",
       "      <td>0</td>\n",
       "      <td>0</td>\n",
       "      <td>NaN</td>\n",
       "      <td>0.0</td>\n",
       "      <td>0</td>\n",
       "      <td>0</td>\n",
       "      <td>0</td>\n",
       "      <td>0</td>\n",
       "    </tr>\n",
       "    <tr>\n",
       "      <th>2290</th>\n",
       "      <td>NaN</td>\n",
       "      <td>0</td>\n",
       "      <td>0</td>\n",
       "      <td>0</td>\n",
       "      <td>0</td>\n",
       "      <td>NaN</td>\n",
       "      <td>0.0</td>\n",
       "      <td>0</td>\n",
       "      <td>0</td>\n",
       "      <td>0</td>\n",
       "      <td>0</td>\n",
       "    </tr>\n",
       "    <tr>\n",
       "      <th>2291</th>\n",
       "      <td>NaN</td>\n",
       "      <td>0</td>\n",
       "      <td>0</td>\n",
       "      <td>0</td>\n",
       "      <td>0</td>\n",
       "      <td>NaN</td>\n",
       "      <td>0.0</td>\n",
       "      <td>0</td>\n",
       "      <td>0</td>\n",
       "      <td>0</td>\n",
       "      <td>0</td>\n",
       "    </tr>\n",
       "  </tbody>\n",
       "</table>\n",
       "<p>2292 rows × 11 columns</p>\n",
       "</div>"
      ],
      "text/plain": [
       "      BLEEDIS  DISCANCR  EMERGNCY  HXCOPD  HYPERMED  READMISSION1  RETURNOR  \\\n",
       "0         NaN         0         0       0         0           NaN       0.0   \n",
       "1         NaN         0         0       0         0           NaN       0.0   \n",
       "2         NaN         0         0       0         0           0.0       0.0   \n",
       "3         NaN         0         0       0         0           NaN       0.0   \n",
       "4         NaN         0         0       0         0           NaN       0.0   \n",
       "...       ...       ...       ...     ...       ...           ...       ...   \n",
       "2287      NaN         0         0       0         0           NaN       0.0   \n",
       "2288      NaN         0         0       0         0           NaN       0.0   \n",
       "2289      NaN         0         0       0         0           NaN       0.0   \n",
       "2290      NaN         0         0       0         0           NaN       0.0   \n",
       "2291      NaN         0         0       0         0           NaN       0.0   \n",
       "\n",
       "      SMOKE  STEROID  WNDINF  WTLOSS  \n",
       "0         0        0       0       0  \n",
       "1         0        0       0       0  \n",
       "2         0        0       0       0  \n",
       "3         0        0       0       0  \n",
       "4         0        0       0       0  \n",
       "...     ...      ...     ...     ...  \n",
       "2287      0        0       0       0  \n",
       "2288      0        0       0       0  \n",
       "2289      0        0       0       0  \n",
       "2290      0        0       0       0  \n",
       "2291      0        0       0       0  \n",
       "\n",
       "[2292 rows x 11 columns]"
      ]
     },
     "execution_count": 4,
     "metadata": {},
     "output_type": "execute_result"
    }
   ],
   "source": [
    "yesno_dataset = dataset[yesno_vars].copy()\n",
    "yesno_dataset = yesno_dataset.replace({'Yes': 1, 'No': 0})\n",
    "yesno_dataset - yesno_dataset.drop('BLEEDIS', axis=1) # redundant"
   ]
  },
  {
   "cell_type": "code",
   "execution_count": 5,
   "metadata": {
    "collapsed": true,
    "execution": {
     "iopub.execute_input": "2020-06-27T23:33:10.579Z",
     "iopub.status.busy": "2020-06-27T23:33:10.573Z",
     "iopub.status.idle": "2020-06-27T23:33:10.588Z",
     "shell.execute_reply": "2020-06-27T23:33:10.594Z"
    },
    "jupyter": {
     "outputs_hidden": false,
     "source_hidden": false
    },
    "nteract": {
     "transient": {
      "deleting": false
     }
    }
   },
   "outputs": [],
   "source": [
    "bleed = yesno_dataset['BLEEDIS'].copy()\n",
    "bleed.replace(np.NaN, 2.0, inplace=True)\n",
    "encode = preprocessing.OneHotEncoder()"
   ]
  },
  {
   "cell_type": "code",
   "execution_count": 6,
   "metadata": {
    "collapsed": true,
    "execution": {
     "iopub.execute_input": "2020-06-27T23:33:11.018Z",
     "iopub.status.busy": "2020-06-27T23:33:11.012Z",
     "iopub.status.idle": "2020-06-27T23:33:11.027Z",
     "shell.execute_reply": "2020-06-27T23:33:11.032Z"
    },
    "jupyter": {
     "outputs_hidden": false,
     "source_hidden": false
    },
    "nteract": {
     "transient": {
      "deleting": false
     }
    }
   },
   "outputs": [],
   "source": [
    "encode.fit(bleed.values.reshape(-1,1))\n",
    "columns = encode.get_feature_names(['BLEEDIS'])\n",
    "new = encode.transform(bleed.values.reshape(-1,1)).toarray()\n",
    "bleedis = pd.DataFrame(new, columns=columns )"
   ]
  },
  {
   "cell_type": "code",
   "execution_count": 7,
   "metadata": {
    "collapsed": true,
    "execution": {
     "iopub.execute_input": "2020-06-27T23:33:11.349Z",
     "iopub.status.busy": "2020-06-27T23:33:11.340Z",
     "iopub.status.idle": "2020-06-27T23:33:11.362Z",
     "shell.execute_reply": "2020-06-27T23:33:11.367Z"
    },
    "jupyter": {
     "outputs_hidden": false,
     "source_hidden": false
    },
    "nteract": {
     "transient": {
      "deleting": false
     }
    }
   },
   "outputs": [],
   "source": [
    "yesno_dataset = pd.concat([yesno_dataset,bleedis], axis=1)"
   ]
  },
  {
   "cell_type": "markdown",
   "metadata": {
    "nteract": {
     "transient": {
      "deleting": false
     }
    }
   },
   "source": [
    "### Change Categorical Encoding"
   ]
  },
  {
   "cell_type": "code",
   "execution_count": 8,
   "metadata": {
    "collapsed": true,
    "execution": {
     "iopub.execute_input": "2020-06-27T23:33:12.154Z",
     "iopub.status.busy": "2020-06-27T23:33:12.134Z",
     "iopub.status.idle": "2020-06-27T23:33:12.188Z",
     "shell.execute_reply": "2020-06-27T23:33:12.197Z"
    },
    "jupyter": {
     "outputs_hidden": false,
     "source_hidden": false
    },
    "nteract": {
     "transient": {
      "deleting": false
     }
    }
   },
   "outputs": [],
   "source": [
    "cat_dataset = dataset[cat_vars].copy()\n",
    "\n",
    "# Binarizing\n",
    "cat_dataset['ASACLAS'] = cat_dataset['ASACLAS'].replace({'None assigned': 0, '1-No Disturb': 1, '2-Mild Disturb': 2, '3-Severe Disturb': 3, '4-Life Threat': 4})\n",
    "cat_dataset['DIABETES'] = cat_dataset['DIABETES'].replace({'NO': 0, 'NON-INSULIN': 1, 'INSULIN': 1})\n",
    "cat_dataset['DYSPNEA'] = cat_dataset['DYSPNEA'].replace({'No': 0, 'MODERATE EXERTION': 1, 'AT REST': 1})\n",
    "cat_dataset['PRSEPIS'] = cat_dataset['PRSEPIS'].replace({'None': 0, 'Sepsis': 1, 'SIRS': 1})\n",
    "\n",
    "# Dummy-encoding\n",
    "sex = pd.get_dummies(cat_dataset['SEX'], prefix='SEX')\n",
    "race = pd.get_dummies(cat_dataset['RACE_NEW'], prefix='RACE')\n",
    "hisp = pd.get_dummies(cat_dataset['ETHNICITY_HISPANIC'], prefix='HISPANIC')\n",
    "transt = pd.get_dummies(cat_dataset['TRANST'], prefix='TRAN')\n",
    "disch = pd.get_dummies(cat_dataset['DISCHDEST'], prefix='DISCHDEST')\n",
    "\n",
    "# Adjust ASA-class formatting\n",
    "cat_dataset['ASACLAS'] = (cat_dataset['ASACLAS']-cat_dataset['ASACLAS'].min())/(cat_dataset['ASACLAS'].max()-cat_dataset['ASACLAS'].min())"
   ]
  },
  {
   "cell_type": "markdown",
   "metadata": {
    "nteract": {
     "transient": {
      "deleting": false
     }
    }
   },
   "source": [
    "### Pull Continuous Variables"
   ]
  },
  {
   "cell_type": "code",
   "execution_count": 9,
   "metadata": {
    "collapsed": true,
    "execution": {
     "iopub.execute_input": "2020-06-27T23:33:12.882Z",
     "iopub.status.busy": "2020-06-27T23:33:12.875Z",
     "iopub.status.idle": "2020-06-27T23:33:12.891Z",
     "shell.execute_reply": "2020-06-27T23:33:12.897Z"
    },
    "jupyter": {
     "outputs_hidden": false,
     "source_hidden": false
    },
    "nteract": {
     "transient": {
      "deleting": false
     }
    }
   },
   "outputs": [],
   "source": [
    "cont_dataset = dataset[cont_vars].copy()"
   ]
  },
  {
   "cell_type": "code",
   "execution_count": 10,
   "metadata": {
    "collapsed": true,
    "execution": {
     "iopub.execute_input": "2020-06-27T23:33:13.263Z",
     "iopub.status.busy": "2020-06-27T23:33:13.254Z",
     "iopub.status.idle": "2020-06-27T23:33:13.299Z",
     "shell.execute_reply": "2020-06-27T23:33:13.327Z"
    },
    "jupyter": {
     "outputs_hidden": false,
     "source_hidden": false
    },
    "nteract": {
     "transient": {
      "deleting": false
     }
    }
   },
   "outputs": [
    {
     "name": "stdout",
     "output_type": "stream",
     "text": [
      "(2292, 50)\n"
     ]
    },
    {
     "data": {
      "text/html": [
       "<div>\n",
       "<style scoped>\n",
       "    .dataframe tbody tr th:only-of-type {\n",
       "        vertical-align: middle;\n",
       "    }\n",
       "\n",
       "    .dataframe tbody tr th {\n",
       "        vertical-align: top;\n",
       "    }\n",
       "\n",
       "    .dataframe thead th {\n",
       "        text-align: right;\n",
       "    }\n",
       "</style>\n",
       "<table border=\"1\" class=\"dataframe\">\n",
       "  <thead>\n",
       "    <tr style=\"text-align: right;\">\n",
       "      <th></th>\n",
       "      <th>AGE</th>\n",
       "      <th>WEIGHT</th>\n",
       "      <th>PUFYEAR</th>\n",
       "      <th>OPTIME</th>\n",
       "      <th>TOTHLOS</th>\n",
       "      <th>PRSODM</th>\n",
       "      <th>PRBUN</th>\n",
       "      <th>PRCREAT</th>\n",
       "      <th>PRALBUM</th>\n",
       "      <th>PRPLATE</th>\n",
       "      <th>...</th>\n",
       "      <th>HISPANIC_Y</th>\n",
       "      <th>TRAN_From acute care hospital inpatient</th>\n",
       "      <th>TRAN_Not transferred (admitted from home)</th>\n",
       "      <th>TRAN_Nursing home - Chronic care - Intermediate care</th>\n",
       "      <th>TRAN_Outside emergency department</th>\n",
       "      <th>TRAN_Transfer from other</th>\n",
       "      <th>DISCHDEST_Home</th>\n",
       "      <th>DISCHDEST_Rehab</th>\n",
       "      <th>DISCHDEST_Skilled Care, Not Home</th>\n",
       "      <th>DISCHDEST_Unknown</th>\n",
       "    </tr>\n",
       "  </thead>\n",
       "  <tbody>\n",
       "    <tr>\n",
       "      <th>0</th>\n",
       "      <td>78.0</td>\n",
       "      <td>163</td>\n",
       "      <td>2018.0</td>\n",
       "      <td>128</td>\n",
       "      <td>11</td>\n",
       "      <td>138</td>\n",
       "      <td>16.0</td>\n",
       "      <td>0.80</td>\n",
       "      <td>3.5</td>\n",
       "      <td>162.0</td>\n",
       "      <td>...</td>\n",
       "      <td>0</td>\n",
       "      <td>0</td>\n",
       "      <td>1</td>\n",
       "      <td>0</td>\n",
       "      <td>0</td>\n",
       "      <td>0</td>\n",
       "      <td>1</td>\n",
       "      <td>0</td>\n",
       "      <td>0</td>\n",
       "      <td>0</td>\n",
       "    </tr>\n",
       "    <tr>\n",
       "      <th>1</th>\n",
       "      <td>59.0</td>\n",
       "      <td>233</td>\n",
       "      <td>2018.0</td>\n",
       "      <td>173</td>\n",
       "      <td>3</td>\n",
       "      <td>140</td>\n",
       "      <td>19.0</td>\n",
       "      <td>0.95</td>\n",
       "      <td>4.4</td>\n",
       "      <td>203.0</td>\n",
       "      <td>...</td>\n",
       "      <td>0</td>\n",
       "      <td>0</td>\n",
       "      <td>1</td>\n",
       "      <td>0</td>\n",
       "      <td>0</td>\n",
       "      <td>0</td>\n",
       "      <td>1</td>\n",
       "      <td>0</td>\n",
       "      <td>0</td>\n",
       "      <td>0</td>\n",
       "    </tr>\n",
       "    <tr>\n",
       "      <th>2</th>\n",
       "      <td>64.0</td>\n",
       "      <td>157</td>\n",
       "      <td>2018.0</td>\n",
       "      <td>101</td>\n",
       "      <td>2</td>\n",
       "      <td>143</td>\n",
       "      <td>20.0</td>\n",
       "      <td>0.89</td>\n",
       "      <td>4.4</td>\n",
       "      <td>282.0</td>\n",
       "      <td>...</td>\n",
       "      <td>0</td>\n",
       "      <td>0</td>\n",
       "      <td>1</td>\n",
       "      <td>0</td>\n",
       "      <td>0</td>\n",
       "      <td>0</td>\n",
       "      <td>1</td>\n",
       "      <td>0</td>\n",
       "      <td>0</td>\n",
       "      <td>0</td>\n",
       "    </tr>\n",
       "    <tr>\n",
       "      <th>3</th>\n",
       "      <td>26.0</td>\n",
       "      <td>218</td>\n",
       "      <td>2018.0</td>\n",
       "      <td>188</td>\n",
       "      <td>4</td>\n",
       "      <td>144</td>\n",
       "      <td>8.0</td>\n",
       "      <td>0.80</td>\n",
       "      <td>4.1</td>\n",
       "      <td>448.0</td>\n",
       "      <td>...</td>\n",
       "      <td>0</td>\n",
       "      <td>0</td>\n",
       "      <td>1</td>\n",
       "      <td>0</td>\n",
       "      <td>0</td>\n",
       "      <td>0</td>\n",
       "      <td>1</td>\n",
       "      <td>0</td>\n",
       "      <td>0</td>\n",
       "      <td>0</td>\n",
       "    </tr>\n",
       "    <tr>\n",
       "      <th>4</th>\n",
       "      <td>29.0</td>\n",
       "      <td>138</td>\n",
       "      <td>2018.0</td>\n",
       "      <td>147</td>\n",
       "      <td>2</td>\n",
       "      <td>140</td>\n",
       "      <td>9.0</td>\n",
       "      <td>0.56</td>\n",
       "      <td>-99.0</td>\n",
       "      <td>236.0</td>\n",
       "      <td>...</td>\n",
       "      <td>1</td>\n",
       "      <td>0</td>\n",
       "      <td>1</td>\n",
       "      <td>0</td>\n",
       "      <td>0</td>\n",
       "      <td>0</td>\n",
       "      <td>1</td>\n",
       "      <td>0</td>\n",
       "      <td>0</td>\n",
       "      <td>0</td>\n",
       "    </tr>\n",
       "  </tbody>\n",
       "</table>\n",
       "<p>5 rows × 50 columns</p>\n",
       "</div>"
      ],
      "text/plain": [
       "    AGE  WEIGHT  PUFYEAR  OPTIME  TOTHLOS  PRSODM  PRBUN  PRCREAT  PRALBUM  \\\n",
       "0  78.0     163   2018.0     128       11     138   16.0     0.80      3.5   \n",
       "1  59.0     233   2018.0     173        3     140   19.0     0.95      4.4   \n",
       "2  64.0     157   2018.0     101        2     143   20.0     0.89      4.4   \n",
       "3  26.0     218   2018.0     188        4     144    8.0     0.80      4.1   \n",
       "4  29.0     138   2018.0     147        2     140    9.0     0.56    -99.0   \n",
       "\n",
       "   PRPLATE  ...  HISPANIC_Y  TRAN_From acute care hospital inpatient  \\\n",
       "0    162.0  ...           0                                        0   \n",
       "1    203.0  ...           0                                        0   \n",
       "2    282.0  ...           0                                        0   \n",
       "3    448.0  ...           0                                        0   \n",
       "4    236.0  ...           1                                        0   \n",
       "\n",
       "   TRAN_Not transferred (admitted from home)  \\\n",
       "0                                          1   \n",
       "1                                          1   \n",
       "2                                          1   \n",
       "3                                          1   \n",
       "4                                          1   \n",
       "\n",
       "   TRAN_Nursing home - Chronic care - Intermediate care  \\\n",
       "0                                                  0      \n",
       "1                                                  0      \n",
       "2                                                  0      \n",
       "3                                                  0      \n",
       "4                                                  0      \n",
       "\n",
       "   TRAN_Outside emergency department  TRAN_Transfer from other  \\\n",
       "0                                  0                         0   \n",
       "1                                  0                         0   \n",
       "2                                  0                         0   \n",
       "3                                  0                         0   \n",
       "4                                  0                         0   \n",
       "\n",
       "   DISCHDEST_Home  DISCHDEST_Rehab  DISCHDEST_Skilled Care, Not Home  \\\n",
       "0               1                0                                 0   \n",
       "1               1                0                                 0   \n",
       "2               1                0                                 0   \n",
       "3               1                0                                 0   \n",
       "4               1                0                                 0   \n",
       "\n",
       "   DISCHDEST_Unknown  \n",
       "0                  0  \n",
       "1                  0  \n",
       "2                  0  \n",
       "3                  0  \n",
       "4                  0  \n",
       "\n",
       "[5 rows x 50 columns]"
      ]
     },
     "execution_count": 10,
     "metadata": {},
     "output_type": "execute_result"
    }
   ],
   "source": [
    "# Merge new variables to produce clean dataset\n",
    "clean_dataset = pd.concat([cont_dataset, yesno_dataset, cat_dataset, sex, race, hisp, transt, disch], axis=1)\n",
    "\n",
    "# Remove redundant variables\n",
    "clean_dataset = clean_dataset.drop(['SEX', 'RACE_NEW', 'BLEEDIS', 'ETHNICITY_HISPANIC', 'TRANST', 'DISCHDEST'], axis=1)\n",
    "\n",
    "print(clean_dataset.shape)\n",
    "clean_dataset.head()"
   ]
  },
  {
   "cell_type": "markdown",
   "metadata": {
    "nteract": {
     "transient": {
      "deleting": false
     }
    }
   },
   "source": [
    "### Replace NaN's With Median Value"
   ]
  },
  {
   "cell_type": "code",
   "execution_count": 11,
   "metadata": {
    "collapsed": true,
    "execution": {
     "iopub.execute_input": "2020-06-27T23:33:13.965Z",
     "iopub.status.busy": "2020-06-27T23:33:13.956Z",
     "iopub.status.idle": "2020-06-27T23:33:14.027Z",
     "shell.execute_reply": "2020-06-27T23:33:14.048Z"
    },
    "jupyter": {
     "outputs_hidden": false,
     "source_hidden": false
    },
    "nteract": {
     "transient": {
      "deleting": false
     }
    }
   },
   "outputs": [
    {
     "name": "stdout",
     "output_type": "stream",
     "text": [
      "AGE: 1534\n",
      "WEIGHT: 1534\n",
      "PUFYEAR: 1534\n",
      "OPTIME: 1534\n",
      "TOTHLOS: 1534\n",
      "PRSODM: 1534\n",
      "PRBUN: 1534\n",
      "PRCREAT: 1534\n",
      "PRALBUM: 1534\n",
      "PRPLATE: 1534\n",
      "PRPTT: 1534\n",
      "PRINR: 1534\n",
      "PRPT: 1534\n",
      "READMISSION1: 1534\n",
      "SMOKE: 1534\n",
      "HXCOPD: 1534\n",
      "HYPERMED: 1534\n",
      "DISCANCR: 1534\n",
      "WNDINF: 1534\n",
      "STEROID: 1534\n",
      "WTLOSS: 1534\n",
      "EMERGNCY: 1534\n",
      "RETURNOR: 1534\n",
      "BLEEDIS_0.0: 1534\n",
      "BLEEDIS_1.0: 1534\n",
      "BLEEDIS_2.0: 1534\n",
      "DIABETES: 1534\n",
      "DYSPNEA: 1534\n",
      "PRSEPIS: 1534\n",
      "ASACLAS: 1533\n",
      "SEX_female: 1534\n",
      "SEX_male: 1534\n",
      "RACE_American Indian or Alaska Native: 1534\n",
      "RACE_Asian: 1534\n",
      "RACE_Black or African American: 1534\n",
      "RACE_Native Hawaiian or Pacific Islander: 1534\n",
      "RACE_Unknown/Not Reported: 1534\n",
      "RACE_White: 1534\n",
      "HISPANIC_N: 1534\n",
      "HISPANIC_U: 1534\n",
      "HISPANIC_Y: 1534\n",
      "TRAN_From acute care hospital inpatient: 1534\n",
      "TRAN_Not transferred (admitted from home): 1534\n",
      "TRAN_Nursing home - Chronic care - Intermediate care: 1534\n",
      "TRAN_Outside emergency department: 1534\n",
      "TRAN_Transfer from other: 1534\n",
      "DISCHDEST_Home: 1534\n",
      "DISCHDEST_Rehab: 1534\n",
      "DISCHDEST_Skilled Care, Not Home: 1534\n",
      "DISCHDEST_Unknown: 1534\n"
     ]
    }
   ],
   "source": [
    "# Replace missing values with median values\n",
    "for col in clean_dataset.columns:\n",
    "    clean_dataset[col].replace(-99, clean_dataset[col].median(), inplace=True)\n",
    "    \n",
    "clean_dataset['AGE'].replace(np.NaN, clean_dataset['AGE'].median(), inplace=True)\n",
    "\n",
    "# Erop rows that don't have readmission defined\n",
    "clean_dataset = clean_dataset[clean_dataset['READMISSION1'].notna()]\n",
    "\n",
    "for col in clean_dataset.columns:\n",
    "    print('{}: {}'.format(col, clean_dataset[col].count()))"
   ]
  },
  {
   "cell_type": "markdown",
   "metadata": {
    "nteract": {
     "transient": {
      "deleting": false
     }
    }
   },
   "source": [
    "### Normalize Continuous Data With StandardScaler"
   ]
  },
  {
   "cell_type": "code",
   "execution_count": 12,
   "metadata": {
    "collapsed": true,
    "execution": {
     "iopub.execute_input": "2020-06-27T23:33:14.744Z",
     "iopub.status.busy": "2020-06-27T23:33:14.738Z",
     "iopub.status.idle": "2020-06-27T23:33:14.753Z",
     "shell.execute_reply": "2020-06-27T23:33:14.759Z"
    },
    "jupyter": {
     "outputs_hidden": false,
     "source_hidden": false
    },
    "nteract": {
     "transient": {
      "deleting": false
     }
    }
   },
   "outputs": [],
   "source": [
    "# Remove cont vars, standardize, then add back-in\n",
    "cont_dataset = clean_dataset[cont_vars].copy()\n",
    "clean_dataset = clean_dataset.drop(cont_vars, axis=1)\n",
    "\n",
    "scaler = preprocessing.StandardScaler().fit(cont_dataset)\n",
    "stand_dataset = scaler.transform(cont_dataset)\n",
    "stand_dataset = pd.DataFrame(stand_dataset)\n",
    "stand_dataset.columns = cont_vars"
   ]
  },
  {
   "cell_type": "code",
   "execution_count": 13,
   "metadata": {
    "collapsed": true,
    "execution": {
     "iopub.execute_input": "2020-06-27T23:33:15.092Z",
     "iopub.status.busy": "2020-06-27T23:33:15.083Z",
     "iopub.status.idle": "2020-06-27T23:33:15.127Z",
     "shell.execute_reply": "2020-06-27T23:33:15.133Z"
    },
    "jupyter": {
     "outputs_hidden": false,
     "source_hidden": false
    },
    "nteract": {
     "transient": {
      "deleting": false
     }
    }
   },
   "outputs": [
    {
     "name": "stdout",
     "output_type": "stream",
     "text": [
      "(1534, 52)\n"
     ]
    },
    {
     "data": {
      "text/html": [
       "<div>\n",
       "<style scoped>\n",
       "    .dataframe tbody tr th:only-of-type {\n",
       "        vertical-align: middle;\n",
       "    }\n",
       "\n",
       "    .dataframe tbody tr th {\n",
       "        vertical-align: top;\n",
       "    }\n",
       "\n",
       "    .dataframe thead th {\n",
       "        text-align: right;\n",
       "    }\n",
       "</style>\n",
       "<table border=\"1\" class=\"dataframe\">\n",
       "  <thead>\n",
       "    <tr style=\"text-align: right;\">\n",
       "      <th></th>\n",
       "      <th>index</th>\n",
       "      <th>READMISSION1</th>\n",
       "      <th>SMOKE</th>\n",
       "      <th>HXCOPD</th>\n",
       "      <th>HYPERMED</th>\n",
       "      <th>DISCANCR</th>\n",
       "      <th>WNDINF</th>\n",
       "      <th>STEROID</th>\n",
       "      <th>WTLOSS</th>\n",
       "      <th>EMERGNCY</th>\n",
       "      <th>...</th>\n",
       "      <th>OPTIME</th>\n",
       "      <th>TOTHLOS</th>\n",
       "      <th>PRSODM</th>\n",
       "      <th>PRBUN</th>\n",
       "      <th>PRCREAT</th>\n",
       "      <th>PRALBUM</th>\n",
       "      <th>PRPLATE</th>\n",
       "      <th>PRPTT</th>\n",
       "      <th>PRINR</th>\n",
       "      <th>PRPT</th>\n",
       "    </tr>\n",
       "  </thead>\n",
       "  <tbody>\n",
       "    <tr>\n",
       "      <th>0</th>\n",
       "      <td>2</td>\n",
       "      <td>1.0</td>\n",
       "      <td>0</td>\n",
       "      <td>0</td>\n",
       "      <td>1</td>\n",
       "      <td>0</td>\n",
       "      <td>0</td>\n",
       "      <td>0</td>\n",
       "      <td>0</td>\n",
       "      <td>0</td>\n",
       "      <td>...</td>\n",
       "      <td>-0.632849</td>\n",
       "      <td>-0.432784</td>\n",
       "      <td>1.100094</td>\n",
       "      <td>0.696080</td>\n",
       "      <td>-0.003698</td>\n",
       "      <td>1.175803</td>\n",
       "      <td>0.520203</td>\n",
       "      <td>-0.010827</td>\n",
       "      <td>-0.329540</td>\n",
       "      <td>-0.211986</td>\n",
       "    </tr>\n",
       "    <tr>\n",
       "      <th>1</th>\n",
       "      <td>30</td>\n",
       "      <td>1.0</td>\n",
       "      <td>0</td>\n",
       "      <td>0</td>\n",
       "      <td>0</td>\n",
       "      <td>0</td>\n",
       "      <td>0</td>\n",
       "      <td>0</td>\n",
       "      <td>0</td>\n",
       "      <td>0</td>\n",
       "      <td>...</td>\n",
       "      <td>2.696533</td>\n",
       "      <td>0.608496</td>\n",
       "      <td>-2.324180</td>\n",
       "      <td>0.111763</td>\n",
       "      <td>0.027710</td>\n",
       "      <td>1.171875</td>\n",
       "      <td>-1.066267</td>\n",
       "      <td>0.292843</td>\n",
       "      <td>1.244182</td>\n",
       "      <td>-0.211986</td>\n",
       "    </tr>\n",
       "    <tr>\n",
       "      <th>2</th>\n",
       "      <td>37</td>\n",
       "      <td>1.0</td>\n",
       "      <td>0</td>\n",
       "      <td>0</td>\n",
       "      <td>0</td>\n",
       "      <td>0</td>\n",
       "      <td>0</td>\n",
       "      <td>1</td>\n",
       "      <td>0</td>\n",
       "      <td>0</td>\n",
       "      <td>...</td>\n",
       "      <td>-0.462880</td>\n",
       "      <td>0.013479</td>\n",
       "      <td>0.788797</td>\n",
       "      <td>1.426476</td>\n",
       "      <td>1.598134</td>\n",
       "      <td>-0.855191</td>\n",
       "      <td>-2.046145</td>\n",
       "      <td>-0.536410</td>\n",
       "      <td>0.807037</td>\n",
       "      <td>-0.211986</td>\n",
       "    </tr>\n",
       "    <tr>\n",
       "      <th>3</th>\n",
       "      <td>96</td>\n",
       "      <td>1.0</td>\n",
       "      <td>0</td>\n",
       "      <td>0</td>\n",
       "      <td>1</td>\n",
       "      <td>0</td>\n",
       "      <td>0</td>\n",
       "      <td>0</td>\n",
       "      <td>0</td>\n",
       "      <td>0</td>\n",
       "      <td>...</td>\n",
       "      <td>-0.542865</td>\n",
       "      <td>-0.581538</td>\n",
       "      <td>2.656582</td>\n",
       "      <td>0.696080</td>\n",
       "      <td>1.346866</td>\n",
       "      <td>-0.855191</td>\n",
       "      <td>0.442435</td>\n",
       "      <td>-0.805041</td>\n",
       "      <td>-0.941543</td>\n",
       "      <td>-0.211986</td>\n",
       "    </tr>\n",
       "    <tr>\n",
       "      <th>4</th>\n",
       "      <td>116</td>\n",
       "      <td>1.0</td>\n",
       "      <td>0</td>\n",
       "      <td>0</td>\n",
       "      <td>1</td>\n",
       "      <td>0</td>\n",
       "      <td>0</td>\n",
       "      <td>0</td>\n",
       "      <td>0</td>\n",
       "      <td>0</td>\n",
       "      <td>...</td>\n",
       "      <td>-0.712834</td>\n",
       "      <td>-0.135275</td>\n",
       "      <td>0.166201</td>\n",
       "      <td>0.403921</td>\n",
       "      <td>0.027710</td>\n",
       "      <td>-0.855191</td>\n",
       "      <td>-0.490783</td>\n",
       "      <td>0.619872</td>\n",
       "      <td>0.020176</td>\n",
       "      <td>-0.211986</td>\n",
       "    </tr>\n",
       "  </tbody>\n",
       "</table>\n",
       "<p>5 rows × 52 columns</p>\n",
       "</div>"
      ],
      "text/plain": [
       "   index  READMISSION1  SMOKE  HXCOPD  HYPERMED  DISCANCR  WNDINF  STEROID  \\\n",
       "0      2           1.0      0       0         1         0       0        0   \n",
       "1     30           1.0      0       0         0         0       0        0   \n",
       "2     37           1.0      0       0         0         0       0        1   \n",
       "3     96           1.0      0       0         1         0       0        0   \n",
       "4    116           1.0      0       0         1         0       0        0   \n",
       "\n",
       "   WTLOSS  EMERGNCY  ...    OPTIME   TOTHLOS    PRSODM     PRBUN   PRCREAT  \\\n",
       "0       0         0  ... -0.632849 -0.432784  1.100094  0.696080 -0.003698   \n",
       "1       0         0  ...  2.696533  0.608496 -2.324180  0.111763  0.027710   \n",
       "2       0         0  ... -0.462880  0.013479  0.788797  1.426476  1.598134   \n",
       "3       0         0  ... -0.542865 -0.581538  2.656582  0.696080  1.346866   \n",
       "4       0         0  ... -0.712834 -0.135275  0.166201  0.403921  0.027710   \n",
       "\n",
       "    PRALBUM   PRPLATE     PRPTT     PRINR      PRPT  \n",
       "0  1.175803  0.520203 -0.010827 -0.329540 -0.211986  \n",
       "1  1.171875 -1.066267  0.292843  1.244182 -0.211986  \n",
       "2 -0.855191 -2.046145 -0.536410  0.807037 -0.211986  \n",
       "3 -0.855191  0.442435 -0.805041 -0.941543 -0.211986  \n",
       "4 -0.855191 -0.490783  0.619872  0.020176 -0.211986  \n",
       "\n",
       "[5 rows x 52 columns]"
      ]
     },
     "execution_count": 13,
     "metadata": {},
     "output_type": "execute_result"
    }
   ],
   "source": [
    "merged_dataset = pd.concat([clean_dataset.reset_index(),stand_dataset.reset_index()], axis=1)\n",
    "print(merged_dataset.shape)\n",
    "merged_dataset.head()"
   ]
  },
  {
   "cell_type": "markdown",
   "metadata": {
    "nteract": {
     "transient": {
      "deleting": false
     }
    }
   },
   "source": [
    "### Save"
   ]
  },
  {
   "cell_type": "code",
   "execution_count": 14,
   "metadata": {
    "collapsed": true,
    "execution": {
     "iopub.execute_input": "2020-06-27T23:33:15.852Z",
     "iopub.status.busy": "2020-06-27T23:33:15.844Z",
     "iopub.status.idle": "2020-06-27T23:33:15.884Z",
     "shell.execute_reply": "2020-06-27T23:33:15.895Z"
    },
    "jupyter": {
     "outputs_hidden": false,
     "source_hidden": false
    },
    "nteract": {
     "transient": {
      "deleting": false
     }
    }
   },
   "outputs": [],
   "source": [
    "merged_dataset.to_csv('/Users/justincampbell/Library/Mobile Documents/com~apple~CloudDocs/Research/Karsy/NSQIP PitTumor ML/NSQIP_Clean2.csv')"
   ]
  }
 ],
 "metadata": {
  "kernel_info": {
   "name": "python3"
  },
  "kernelspec": {
   "display_name": "Python 3",
   "language": "python",
   "name": "python3"
  },
  "language_info": {
   "codemirror_mode": {
    "name": "ipython",
    "version": 3
   },
   "file_extension": ".py",
   "mimetype": "text/x-python",
   "name": "python",
   "nbconvert_exporter": "python",
   "pygments_lexer": "ipython3",
   "version": "3.6.8"
  },
  "nteract": {
   "version": "0.23.3"
  }
 },
 "nbformat": 4,
 "nbformat_minor": 2
}
