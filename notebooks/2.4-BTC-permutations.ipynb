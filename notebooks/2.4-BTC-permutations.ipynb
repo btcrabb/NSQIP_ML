{
 "cells": [
  {
   "cell_type": "code",
   "execution_count": 1,
   "metadata": {},
   "outputs": [
    {
     "name": "stderr",
     "output_type": "stream",
     "text": [
      "Using TensorFlow backend.\n"
     ]
    },
    {
     "name": "stdout",
     "output_type": "stream",
     "text": [
      "Python: 3.6.10 |Anaconda, Inc.| (default, May  7 2020, 19:46:08) [MSC v.1916 64 bit (AMD64)]\n",
      "Pandas: 1.0.3\n",
      "Numpy: 1.18.1\n",
      "Sklearn: 0.22.1\n",
      "XGBoost: 1.1.1\n",
      "Keras: 2.3.1\n"
     ]
    }
   ],
   "source": [
    "import sys\n",
    "import pandas as pd\n",
    "import numpy as np\n",
    "\n",
    "# Define a random seed for reproducibility\n",
    "seed = 0\n",
    "np.random.seed(seed)\n",
    "\n",
    "import sklearn\n",
    "import xgboost\n",
    "import keras\n",
    "import tensorflow as tf\n",
    "\n",
    "import os\n",
    "import pickle\n",
    "\n",
    "\n",
    "print('Python: {}'.format(sys.version))\n",
    "print('Pandas: {}'.format(pd.__version__))\n",
    "print('Numpy: {}'.format(np.__version__))\n",
    "print('Sklearn: {}'.format(sklearn.__version__))\n",
    "print('XGBoost: {}'.format(xgboost.__version__))\n",
    "print('Keras: {}'.format(keras.__version__))"
   ]
  },
  {
   "cell_type": "code",
   "execution_count": 2,
   "metadata": {},
   "outputs": [],
   "source": [
    "def load_train_and_test(path):\n",
    "\n",
    "    \"\"\"Loads training features, training labels, testing features, and testing features\n",
    "    Parameters:\n",
    "        path (str) -- a single directory path containing all four datasets\n",
    "    \"\"\"\n",
    "\n",
    "    train_features = pd.read_csv(path + 'train_features.csv', index_col=0)\n",
    "    train_labels = pd.read_csv(path + 'train_labels.csv', index_col=0)\n",
    "    test_features = pd.read_csv(path + 'test_features.csv', index_col=0)\n",
    "    test_labels = pd.read_csv(path + 'test_labels.csv', index_col=0)\n",
    "\n",
    "    return train_features, train_labels.values.ravel(), test_features, test_labels.values.ravel()\n",
    "\n",
    "X_train, Y_train, X_test, Y_test = load_train_and_test('../data/split/')"
   ]
  },
  {
   "cell_type": "code",
   "execution_count": 3,
   "metadata": {},
   "outputs": [],
   "source": [
    "from sklearn.metrics import roc_auc_score\n",
    "\n",
    "def permutation_importance(X, y, model): \n",
    "    \n",
    "    \"\"\" Add random permutations to each variable in training data to assess variable importance \"\"\"\n",
    "    \n",
    "    perm = {}\n",
    "    y_true = model.predict_proba(X)[:,1]\n",
    "    baseline= roc_auc_score(y, y_true)\n",
    "    \n",
    "    print('Baseline ROC AUC score: {}'.format(baseline))\n",
    "\n",
    "    for cols in X.columns:\n",
    "        new_df = X.copy()\n",
    "        values = new_df.loc[:,cols]\n",
    "        new_df.loc[:,cols] = np.random.permutation(values)\n",
    "        y_true = model.predict_proba(new_df)[:,1]\n",
    "        perm[cols] = roc_auc_score(y, y_true) - baseline\n",
    "        \n",
    "    return perm"
   ]
  },
  {
   "cell_type": "code",
   "execution_count": 4,
   "metadata": {},
   "outputs": [],
   "source": [
    "# load all optimized models from the models folder\n",
    "\n",
    "dirName = '../models/'\n",
    "\n",
    "fileList = list()\n",
    "dirList = list()\n",
    "\n",
    "for (dirpath, dirnames, filenames) in os. walk(dirName):\n",
    "    for file in filenames:\n",
    "        if '.sav' in file:\n",
    "            fileList.append(os.path. join(dirpath, file))\n",
    "\n",
    "modelList = list()\n",
    "\n",
    "for file in fileList:\n",
    "    model = pickle.load(open(file, 'rb'))\n",
    "    modelList.append(model)"
   ]
  },
  {
   "cell_type": "code",
   "execution_count": 5,
   "metadata": {},
   "outputs": [
    {
     "name": "stdout",
     "output_type": "stream",
     "text": [
      "Baseline ROC AUC score: 0.6735426211379179\n",
      "Baseline ROC AUC score: 0.8741903450766211\n",
      "Baseline ROC AUC score: 0.6183393892888578\n",
      "Baseline ROC AUC score: 0.6877948046672234\n",
      "Baseline ROC AUC score: 0.932677334175901\n",
      "Baseline ROC AUC score: 0.7910808187952787\n",
      "Baseline ROC AUC score: 0.8467072152384392\n",
      "Baseline ROC AUC score: 0.8483462727662551\n"
     ]
    },
    {
     "data": {
      "text/html": [
       "<div>\n",
       "<style scoped>\n",
       "    .dataframe tbody tr th:only-of-type {\n",
       "        vertical-align: middle;\n",
       "    }\n",
       "\n",
       "    .dataframe tbody tr th {\n",
       "        vertical-align: top;\n",
       "    }\n",
       "\n",
       "    .dataframe thead th {\n",
       "        text-align: right;\n",
       "    }\n",
       "</style>\n",
       "<table border=\"1\" class=\"dataframe\">\n",
       "  <thead>\n",
       "    <tr style=\"text-align: right;\">\n",
       "      <th></th>\n",
       "      <th>SEX_male</th>\n",
       "      <th>RETURNOR_Yes</th>\n",
       "      <th>AGE</th>\n",
       "      <th>BMI</th>\n",
       "      <th>OPTIME</th>\n",
       "      <th>PRSODM</th>\n",
       "      <th>PRBUN</th>\n",
       "      <th>PRCREAT</th>\n",
       "      <th>PRPLATE</th>\n",
       "      <th>PRPTT</th>\n",
       "      <th>PRPT</th>\n",
       "    </tr>\n",
       "  </thead>\n",
       "  <tbody>\n",
       "    <tr>\n",
       "      <th>AdaBoost</th>\n",
       "      <td>0.000000</td>\n",
       "      <td>-0.076900</td>\n",
       "      <td>0.000000</td>\n",
       "      <td>0.000000</td>\n",
       "      <td>0.000000</td>\n",
       "      <td>0.000000</td>\n",
       "      <td>-0.044892</td>\n",
       "      <td>0.000000</td>\n",
       "      <td>0.000000</td>\n",
       "      <td>0.000000</td>\n",
       "      <td>-0.102572</td>\n",
       "    </tr>\n",
       "    <tr>\n",
       "      <th>DecisionTree</th>\n",
       "      <td>0.000000</td>\n",
       "      <td>-0.103351</td>\n",
       "      <td>-0.009448</td>\n",
       "      <td>-0.022811</td>\n",
       "      <td>-0.020490</td>\n",
       "      <td>-0.102646</td>\n",
       "      <td>-0.060806</td>\n",
       "      <td>-0.078864</td>\n",
       "      <td>-0.063413</td>\n",
       "      <td>-0.023559</td>\n",
       "      <td>-0.095195</td>\n",
       "    </tr>\n",
       "    <tr>\n",
       "      <th>GradientBoosting</th>\n",
       "      <td>0.000000</td>\n",
       "      <td>-0.079324</td>\n",
       "      <td>0.000000</td>\n",
       "      <td>0.000000</td>\n",
       "      <td>0.000000</td>\n",
       "      <td>0.000000</td>\n",
       "      <td>-0.027229</td>\n",
       "      <td>0.000000</td>\n",
       "      <td>0.000000</td>\n",
       "      <td>0.000000</td>\n",
       "      <td>0.000000</td>\n",
       "    </tr>\n",
       "    <tr>\n",
       "      <th>LogisticRegression</th>\n",
       "      <td>-0.000570</td>\n",
       "      <td>-0.077033</td>\n",
       "      <td>-0.006906</td>\n",
       "      <td>-0.012481</td>\n",
       "      <td>-0.011409</td>\n",
       "      <td>0.001884</td>\n",
       "      <td>-0.077450</td>\n",
       "      <td>0.003950</td>\n",
       "      <td>-0.005433</td>\n",
       "      <td>-0.030998</td>\n",
       "      <td>0.003436</td>\n",
       "    </tr>\n",
       "    <tr>\n",
       "      <th>MLP</th>\n",
       "      <td>-0.161502</td>\n",
       "      <td>-0.069004</td>\n",
       "      <td>-0.155657</td>\n",
       "      <td>-0.173554</td>\n",
       "      <td>-0.151194</td>\n",
       "      <td>-0.153572</td>\n",
       "      <td>-0.113470</td>\n",
       "      <td>-0.130256</td>\n",
       "      <td>-0.074150</td>\n",
       "      <td>-0.121008</td>\n",
       "      <td>-0.079335</td>\n",
       "    </tr>\n",
       "    <tr>\n",
       "      <th>RandomForest</th>\n",
       "      <td>0.000000</td>\n",
       "      <td>-0.066699</td>\n",
       "      <td>-0.034166</td>\n",
       "      <td>-0.012980</td>\n",
       "      <td>-0.000576</td>\n",
       "      <td>-0.026239</td>\n",
       "      <td>-0.040999</td>\n",
       "      <td>-0.010949</td>\n",
       "      <td>-0.006847</td>\n",
       "      <td>-0.021285</td>\n",
       "      <td>-0.069049</td>\n",
       "    </tr>\n",
       "    <tr>\n",
       "      <th>SVC</th>\n",
       "      <td>-0.019392</td>\n",
       "      <td>-0.048325</td>\n",
       "      <td>-0.042367</td>\n",
       "      <td>-0.051965</td>\n",
       "      <td>-0.041419</td>\n",
       "      <td>-0.086241</td>\n",
       "      <td>-0.063469</td>\n",
       "      <td>-0.037526</td>\n",
       "      <td>-0.034084</td>\n",
       "      <td>-0.038079</td>\n",
       "      <td>-0.019770</td>\n",
       "    </tr>\n",
       "    <tr>\n",
       "      <th>XGBoost</th>\n",
       "      <td>0.000000</td>\n",
       "      <td>-0.055113</td>\n",
       "      <td>-0.004407</td>\n",
       "      <td>-0.013744</td>\n",
       "      <td>-0.023472</td>\n",
       "      <td>-0.022171</td>\n",
       "      <td>-0.028880</td>\n",
       "      <td>-0.023559</td>\n",
       "      <td>-0.019514</td>\n",
       "      <td>-0.017821</td>\n",
       "      <td>-0.088097</td>\n",
       "    </tr>\n",
       "  </tbody>\n",
       "</table>\n",
       "</div>"
      ],
      "text/plain": [
       "                    SEX_male  RETURNOR_Yes       AGE       BMI    OPTIME  \\\n",
       "AdaBoost            0.000000     -0.076900  0.000000  0.000000  0.000000   \n",
       "DecisionTree        0.000000     -0.103351 -0.009448 -0.022811 -0.020490   \n",
       "GradientBoosting    0.000000     -0.079324  0.000000  0.000000  0.000000   \n",
       "LogisticRegression -0.000570     -0.077033 -0.006906 -0.012481 -0.011409   \n",
       "MLP                -0.161502     -0.069004 -0.155657 -0.173554 -0.151194   \n",
       "RandomForest        0.000000     -0.066699 -0.034166 -0.012980 -0.000576   \n",
       "SVC                -0.019392     -0.048325 -0.042367 -0.051965 -0.041419   \n",
       "XGBoost             0.000000     -0.055113 -0.004407 -0.013744 -0.023472   \n",
       "\n",
       "                      PRSODM     PRBUN   PRCREAT   PRPLATE     PRPTT      PRPT  \n",
       "AdaBoost            0.000000 -0.044892  0.000000  0.000000  0.000000 -0.102572  \n",
       "DecisionTree       -0.102646 -0.060806 -0.078864 -0.063413 -0.023559 -0.095195  \n",
       "GradientBoosting    0.000000 -0.027229  0.000000  0.000000  0.000000  0.000000  \n",
       "LogisticRegression  0.001884 -0.077450  0.003950 -0.005433 -0.030998  0.003436  \n",
       "MLP                -0.153572 -0.113470 -0.130256 -0.074150 -0.121008 -0.079335  \n",
       "RandomForest       -0.026239 -0.040999 -0.010949 -0.006847 -0.021285 -0.069049  \n",
       "SVC                -0.086241 -0.063469 -0.037526 -0.034084 -0.038079 -0.019770  \n",
       "XGBoost            -0.022171 -0.028880 -0.023559 -0.019514 -0.017821 -0.088097  "
      ]
     },
     "execution_count": 5,
     "metadata": {},
     "output_type": "execute_result"
    }
   ],
   "source": [
    "# run permutation analysis for each variable and each model\n",
    "\n",
    "permutations = []\n",
    "\n",
    "for i,model in enumerate(modelList):\n",
    "    perms = permutation_importance(X_train.copy(), Y_train.copy(), model)\n",
    "    permutations.append(perms)\n",
    "    \n",
    "scores = pd.DataFrame(permutations, index = [file.split('/')[-1].rstrip('.sav') for file in fileList])\n",
    "scores"
   ]
  },
  {
   "cell_type": "code",
   "execution_count": 6,
   "metadata": {},
   "outputs": [
    {
     "data": {
      "text/plain": [
       "RETURNOR_Yes   -0.071969\n",
       "PRBUN          -0.057149\n",
       "PRPT           -0.056323\n",
       "PRSODM         -0.048623\n",
       "BMI            -0.035942\n",
       "PRCREAT        -0.034650\n",
       "AGE            -0.031619\n",
       "PRPTT          -0.031594\n",
       "OPTIME         -0.031070\n",
       "PRPLATE        -0.025430\n",
       "SEX_male       -0.022683\n",
       "dtype: float64"
      ]
     },
     "execution_count": 6,
     "metadata": {},
     "output_type": "execute_result"
    }
   ],
   "source": [
    "# print total permutation values for all optimized models\n",
    "\n",
    "# Note - more negative values mean the algorithm was impacted significantly by permutations of this column (ie, this column is an important variable)\n",
    "# Note - positive values may indicate the algorithm's performance is decreased by inclusion of this variable. \n",
    "\n",
    "totals = scores.mean(axis=0)\n",
    "totals.sort_values()"
   ]
  },
  {
   "cell_type": "code",
   "execution_count": 7,
   "metadata": {},
   "outputs": [
    {
     "data": {
      "text/plain": [
       "RETURNOR_Yes   -0.071969\n",
       "PRBUN          -0.057149\n",
       "PRPT           -0.056323\n",
       "PRSODM         -0.048623\n",
       "BMI            -0.035942\n",
       "PRCREAT        -0.034650\n",
       "AGE            -0.031619\n",
       "PRPTT          -0.031594\n",
       "OPTIME         -0.031070\n",
       "PRPLATE        -0.025430\n",
       "dtype: float64"
      ]
     },
     "execution_count": 7,
     "metadata": {},
     "output_type": "execute_result"
    }
   ],
   "source": [
    "# Print top 10 most important variables\n",
    "totals.sort_values()[:10]"
   ]
  },
  {
   "cell_type": "code",
   "execution_count": 8,
   "metadata": {},
   "outputs": [],
   "source": [
    "data = totals.sort_values(ascending=False) * -1"
   ]
  },
  {
   "cell_type": "code",
   "execution_count": 9,
   "metadata": {},
   "outputs": [],
   "source": [
    "import matplotlib.pyplot as plt\n",
    "\n",
    "def plot_bar_score(scores, tree=True, offset=0.002, save=False):\n",
    "    \n",
    "    pos = np.arange(len(scores))\n",
    "\n",
    "    plt.figure(figsize=(10,14))\n",
    "    rects = plt.barh(pos, scores,\n",
    "                     align='center',\n",
    "                     height = 0.9,\n",
    "                     tick_label = scores.keys(),\n",
    "                     alpha = 0.5\n",
    "                    )\n",
    "    \n",
    "    for rect in rects:\n",
    "        plt.text(rect.get_width() + offset, rect.get_y(), round(rect.get_width(),3), ha='center', va='bottom')\n",
    "        \n",
    "    if tree:\n",
    "        plt.title(\"Average Impurity-Based Feature Importance for Tree Algorithms\")\n",
    "    else:\n",
    "        plt.title(\"Feature Importance: Average Decrease in AUC Score in Permutation Analysis\")\n",
    "        \n",
    "    plt.xlim(np.min(scores) - offset, np.max(scores) + offset*2)\n",
    "    \n",
    "    #plt.tight_layout()\n",
    "    \n",
    "    if save:\n",
    "        plt.savefig('../reports/figures/{}_bar_graph.png'.format('permutation'))\n",
    "    plt.show"
   ]
  },
  {
   "cell_type": "code",
   "execution_count": 10,
   "metadata": {},
   "outputs": [
    {
     "data": {
      "image/png": "[encoded data removed]",
      "text/plain": [
       "<Figure size 720x1008 with 1 Axes>"
      ]
     },
     "metadata": {
      "needs_background": "light"
     },
     "output_type": "display_data"
    }
   ],
   "source": [
    "plot_bar_score(data, tree=False, save=True)"
   ]
  },
  {
   "cell_type": "code",
   "execution_count": 11,
   "metadata": {},
   "outputs": [],
   "source": [
    "# using impurity-based feature importance from tree based approachs\n",
    "importance = pd.DataFrame(columns=X_train.columns)\n",
    "stds = pd.DataFrame(columns=X_train.columns)\n",
    "\n",
    "i=0\n",
    "for model in modelList:\n",
    "     \n",
    "    if hasattr(model, 'feature_importances_'):\n",
    "        importance.loc[i] = model.feature_importances_\n",
    "        i += 1"
   ]
  },
  {
   "cell_type": "code",
   "execution_count": 12,
   "metadata": {},
   "outputs": [],
   "source": [
    "totals = importance.mean(axis=0).sort_values(ascending=True)"
   ]
  },
  {
   "cell_type": "code",
   "execution_count": 13,
   "metadata": {},
   "outputs": [
    {
     "data": {
      "image/png": "[encoded data removed]",
      "text/plain": [
       "<Figure size 720x1008 with 1 Axes>"
      ]
     },
     "metadata": {
      "needs_background": "light"
     },
     "output_type": "display_data"
    }
   ],
   "source": [
    "plot_bar_score(totals, offset=0.008, save=True)"
   ]
  },
  {
   "cell_type": "code",
   "execution_count": null,
   "metadata": {},
   "outputs": [],
   "source": []
  }
 ],
 "metadata": {
  "kernelspec": {
   "display_name": "Python [conda env:NSQIP]",
   "language": "python",
   "name": "conda-env-NSQIP-py"
  },
  "language_info": {
   "codemirror_mode": {
    "name": "ipython",
    "version": 3
   },
   "file_extension": ".py",
   "mimetype": "text/x-python",
   "name": "python",
   "nbconvert_exporter": "python",
   "pygments_lexer": "ipython3",
   "version": "3.6.10"
  }
 },
 "nbformat": 4,
 "nbformat_minor": 2
}
